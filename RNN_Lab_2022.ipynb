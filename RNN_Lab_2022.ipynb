{
  "cells": [
    {
      "cell_type": "markdown",
      "metadata": {
        "id": "6enfew_uF5dy"
      },
      "source": [
        "# Part-of-Speech Tagging with Recurrent Neural Networks"
      ]
    },
    {
      "cell_type": "markdown",
      "metadata": {
        "id": "JX7nXC3VF5d1"
      },
      "source": [
        "Your task in this assignment is to implement a simple part-of-speech tagger based on recurrent neural networks."
      ]
    },
    {
      "cell_type": "markdown",
      "metadata": {
        "id": "L8C_dGXiF5d2"
      },
      "source": [
        "## Get a graphics card\n",
        "\n",
        "Skip this part if you run on a CPU"
      ]
    },
    {
      "cell_type": "code",
      "execution_count": 12,
      "metadata": {
        "id": "z8sR7i4LF5d3"
      },
      "outputs": [],
      "source": [
        "import os\n",
        "import warnings\n",
        "\n",
        "# Ignore FutureWarning from numpy\n",
        "warnings.simplefilter(action='ignore', category=FutureWarning)\n",
        "\n",
        "import keras.backend as K\n",
        "import tensorflow as tf\n",
        "\n",
        "os.environ[\"CUDA_DEVICE_ORDER\"]=\"PCI_BUS_ID\";\n",
        " \n",
        "# The GPU id to use, usually either \"0\" or \"1\";\n",
        "os.environ[\"CUDA_VISIBLE_DEVICES\"]=\"0\";\n",
        "\n",
        "# Allow growth of GPU memory, otherwise it will always look like all the memory is being used\n",
        "physical_devices = tf.config.experimental.list_physical_devices('GPU')\n",
        "# tf.config.experimental.set_memory_growth(physical_devices[0], True) "
      ]
    },
    {
      "cell_type": "markdown",
      "metadata": {
        "id": "CgY5OE1bF5d5"
      },
      "source": [
        "## Problem specification"
      ]
    },
    {
      "cell_type": "markdown",
      "metadata": {
        "id": "0WMdjEA9F5d6"
      },
      "source": [
        "Your task in this assignment is\n",
        "\n",
        "1. to build a part-of-speech tagger based on a recurrent neural network architecture\n",
        "2. to train this tagger on the provided training data and identify a good model\n",
        "2. to evaluate the performance of this model on the provided test data\n",
        "\n",
        "To identify a good model, you can use the provided development (validation) data."
      ]
    },
    {
      "cell_type": "markdown",
      "metadata": {
        "id": "xGPBi-cMF5d7"
      },
      "source": [
        "## Part-of-speech tagging"
      ]
    },
    {
      "cell_type": "markdown",
      "metadata": {
        "id": "QgjyZaV0F5d8"
      },
      "source": [
        "Part-of-speech (POS) tagging is the task of labelling words (tokens) with [parts of speech](https://en.wikipedia.org/wiki/Part_of_speech). To give an example, consider the  sentence *Parker hates parsnips*. In this sentence, the word *Parker* should be labelled as a proper noun (a noun that is the name of a person), *hates* should be labelled as a verb, and *parsnips* should be labelled as a (common) noun. Part-of-speech tagging is an essential ingredient of many state-of-the-art natural language understanding systems.\n",
        "\n",
        "Part-of-speech tagging can be cast as a supervised machine learning problem where the gold-standard data consists of sentences whose words have been manually annotated with parts of speech. For the present assignment you will be using a corpus built over the source material of the [English Web Treebank](https://catalog.ldc.upenn.edu/LDC2012T13), consisting of approximately 16,000&nbsp;sentences with 254,000&nbsp;tokens. The corpus has been released by the [Universal Dependencies Project](http://universaldependencies.org).\n",
        "\n",
        "To make it easier to compare systems, the gold-standard data has been split into three parts: training, development (validation), and test. The following cell provides a function that can be used to load the data."
      ]
    },
    {
      "cell_type": "code",
      "execution_count": 13,
      "metadata": {
        "id": "k_CaJs68F5d9"
      },
      "outputs": [],
      "source": [
        "def read_data(path):\n",
        "    with open(path, encoding='utf-8') as fp:\n",
        "        result = []\n",
        "        for line in fp:\n",
        "            line = line.rstrip()\n",
        "            if len(line) == 0:\n",
        "                yield result\n",
        "                result = []\n",
        "            elif not line.startswith('#'):\n",
        "                columns = line.split()\n",
        "                if columns[0].isdigit():\n",
        "                    result.append((columns[1], columns[3]))"
      ]
    },
    {
      "cell_type": "markdown",
      "metadata": {
        "id": "gL1KV1p0F5d-"
      },
      "source": [
        "The next cell loads the data:"
      ]
    },
    {
      "cell_type": "code",
      "execution_count": 14,
      "metadata": {
        "colab": {
          "base_uri": "https://localhost:8080/"
        },
        "id": "7rSGhI-pF5d-",
        "outputId": "2e59db19-26b9-447d-c528-b8c81b6abb31"
      },
      "outputs": [
        {
          "output_type": "stream",
          "name": "stdout",
          "text": [
            "Drive already mounted at /content/drive; to attempt to forcibly remount, call drive.mount(\"/content/drive\", force_remount=True).\n",
            "Number of sentences in the training data: 12543\n",
            "Number of sentences in the development data: 2002\n",
            "Number of sentences in the test data: 2077\n"
          ]
        }
      ],
      "source": [
        "from google.colab import drive\n",
        "drive.mount('/content/drive')\n",
        "base_path = '/content/drive/MyDrive/LIU/sem 2/732A78 Deep Learning/labs/lab 3 RNN/'\n",
        "\n",
        "# loading data\n",
        "train_data = list(read_data(base_path + 'en_ewt-ud-train.conllu'))\n",
        "print('Number of sentences in the training data: {}'.format(len(train_data)))\n",
        "\n",
        "dev_data = list(read_data(base_path + 'en_ewt-ud-dev.conllu'))\n",
        "print('Number of sentences in the development data: {}'.format(len(dev_data)))\n",
        "\n",
        "test_data = list(read_data(base_path + 'en_ewt-ud-test.conllu'))\n",
        "print('Number of sentences in the test data: {}'.format(len(test_data)))"
      ]
    },
    {
      "cell_type": "markdown",
      "metadata": {
        "id": "gzqXdak9F5eA"
      },
      "source": [
        "From a Python perspective, each of the data sets is a list of what we shall refer to as *tagged sentences*. A tagged sentence, in turn, is a list of pairs $(w,t)$, where $w$ is a word token and $t$ is the word&rsquo;s POS tag. Here is an example from the training data to show you how this looks like:"
      ]
    },
    {
      "cell_type": "code",
      "execution_count": 15,
      "metadata": {
        "id": "mkB7Qhw6F5eB",
        "colab": {
          "base_uri": "https://localhost:8080/"
        },
        "outputId": "850e4bf5-a1a7-42c3-f109-fffbe4e6a530"
      },
      "outputs": [
        {
          "output_type": "execute_result",
          "data": {
            "text/plain": [
              "[('The', 'DET'),\n",
              " ('cells', 'NOUN'),\n",
              " ('were', 'AUX'),\n",
              " ('operating', 'VERB'),\n",
              " ('in', 'ADP'),\n",
              " ('the', 'DET'),\n",
              " ('Ghazaliyah', 'PROPN'),\n",
              " ('and', 'CCONJ'),\n",
              " ('al', 'PROPN'),\n",
              " ('-', 'PUNCT'),\n",
              " ('Jihad', 'PROPN'),\n",
              " ('districts', 'NOUN'),\n",
              " ('of', 'ADP'),\n",
              " ('the', 'DET'),\n",
              " ('capital', 'NOUN'),\n",
              " ('.', 'PUNCT')]"
            ]
          },
          "metadata": {},
          "execution_count": 15
        }
      ],
      "source": [
        "train_data[7]"
      ]
    },
    {
      "cell_type": "markdown",
      "metadata": {
        "id": "VXjl8r7UF5eB"
      },
      "source": [
        "You will see part-of-speech tags such as `VERB` for verb, `NOUN` for noun, and `ADV` for adverb. If you are interested in learning more about the tag set used in the gold-standard data, you can have a look at the documentation of the [Universal POS tags](http://universaldependencies.org/u/pos/all.html). However, you do not need to understand the meaning of the POS tags to solve this assignment; you can simply treat them as labels drawn from a finite set of alternatives."
      ]
    },
    {
      "cell_type": "markdown",
      "metadata": {
        "id": "8qsZRtfLF5eB"
      },
      "source": [
        "## Network architecture"
      ]
    },
    {
      "cell_type": "markdown",
      "metadata": {
        "id": "UzVb_Gn-F5eB"
      },
      "source": [
        "The proposed network architecture for your tagger is a sequential model with three layers, illustrated below: an embedding, a bidirectional LSTM, and a softmax layer. The embedding turns word indexes (integers representing words) into fixed-size dense vectors which are then fed into the bidirectional LSTM. The output of the LSTM at each position of the sentence is passed to a softmax layer which predicts the POS tag for the word at that position.\n",
        "\n",
        "![picture](https://drive.google.com/uc?export=view&id=11u2oIkVJERz1uVrYiCYxcvqtjTNmULoo)\n",
        "\n",
        "To implement the network architecture, you will use [Keras](https://keras.io/). Keras comes with an extensive online documentation, and reading the relevant parts of this documentation will be essential when working on this assignment. We suggest to start with the tutorial [Getting started with the Keras Sequential model](https://keras.io/getting-started/sequential-model-guide/). After that, you should have a look at some of the examples mentioned in that tutorial, and in particular the [Bidirectional LSTM](https://keras.io/examples/nlp/bidirectional_lstm_imdb/) example."
      ]
    },
    {
      "cell_type": "markdown",
      "metadata": {
        "id": "yU9Tglh6F5eC"
      },
      "source": [
        "## Evaluation"
      ]
    },
    {
      "cell_type": "markdown",
      "metadata": {
        "id": "czm1hta-F5eC"
      },
      "source": [
        "The most widely-used evaluation measure for part-of-speech tagging is per-word accuracy, which is the percentage of words to which the tagger assigns the correct tag (according to the gold standard). This is one of the default metrics in Keras.\n",
        "\n",
        "One problem that you will encounter during evaluation is that the evaluation data contains words that you did not see (and did not add to your index) during training. The simplest solution to this problem is to introduce a special &lsquo;word&rsquo; `<unk>` and replace each unknown word with this pseudoword."
      ]
    },
    {
      "cell_type": "markdown",
      "metadata": {
        "id": "GzIQfTJvF5eD"
      },
      "source": [
        "## Part 1: Pre-process the data"
      ]
    },
    {
      "cell_type": "markdown",
      "metadata": {
        "id": "7O6fUp7YF5eD"
      },
      "source": [
        "Before you can start to implement the network architecture as such, you will have to bring the tagged sentences from the gold-standard data into a form that can be used with the network. One important step in this is to map the words and tags (strings) to integers. Here is code that illustrates the idea:"
      ]
    },
    {
      "cell_type": "code",
      "execution_count": 16,
      "metadata": {
        "id": "ZtFyMifeF5eE",
        "colab": {
          "base_uri": "https://localhost:8080/"
        },
        "outputId": "dd3d971d-d903-4be0-8127-de281be689fd"
      },
      "outputs": [
        {
          "output_type": "stream",
          "name": "stdout",
          "text": [
            "Number of unique words in the training data: 19672\n",
            "Index of the word \"hates\": 4579\n"
          ]
        }
      ],
      "source": [
        "word_to_index = {}\n",
        "for tagged_sentence in train_data:\n",
        "    for word, tag in tagged_sentence:\n",
        "        if word not in word_to_index:\n",
        "            word_to_index[word] = len(word_to_index)\n",
        "\n",
        "print('Number of unique words in the training data: {}'.format(len(word_to_index)))\n",
        "print('Index of the word \"hates\": {}'.format(word_to_index['hates']))"
      ]
    },
    {
      "cell_type": "markdown",
      "metadata": {
        "id": "AySz6OQaF5eE"
      },
      "source": [
        "Once you have indexes for the words and the tags, you can construct the input and the gold-standard output tensor required to train the network.\n",
        "\n",
        "### Constructing the input tensor\n",
        "\n",
        "The input tensor should be of shape $(N, n)$ where $N$ is the total number of sentences in the training data and $n$ is the length of the longest sentence. Note that Keras requires all sequences in an input tensor to have the same length, which means that you will have to pad all sequences to that length. You can use the helper function [`pad_sequences`](https://www.tensorflow.org/api_docs/python/tf/keras/preprocessing/sequence/pad_sequences) for this, which by default will front-pad sequences with the value&nbsp;0. It is essential then that you do not use this special padding value as the index of actual words.\n",
        "\n",
        "### Constructing the target output tensor\n",
        "\n",
        "The target output tensor should be of shape $(N, n, T)$ where $T$ is the number of unique tags in the training data, plus one to cater for the special padding value. The additional dimension corresponds to the fact that the softmax layer of the network will output one $T$-dimensional vector for each position of an input sentence. To construct this vector, you can use the helper function [`to_categorical`](https://www.tensorflow.org/api_docs/python/tf/keras/utils/to_categorical)."
      ]
    },
    {
      "cell_type": "code",
      "execution_count": 17,
      "metadata": {
        "id": "ByzPCKMzF5eE",
        "colab": {
          "base_uri": "https://localhost:8080/"
        },
        "outputId": "6327e900-6e6a-4d62-b426-40bedd33256a"
      },
      "outputs": [
        {
          "output_type": "stream",
          "name": "stdout",
          "text": [
            "Number of unique words in the training data: 19674\n",
            "Number of unique tags in the training_data: 18\n"
          ]
        }
      ],
      "source": [
        "# Define a help function to build index from a list of words or tags, each word / tag will have a unique number\n",
        "def build_index(strings, init=[]):\n",
        "    string_to_index = {s: i for i, s in enumerate(init)}\n",
        "    # Loop over strings in 'strings'\n",
        "    \n",
        "    for string in strings:\n",
        "        if string not in string_to_index:\n",
        "            string_to_index[string] = (len(string_to_index))\n",
        "            \n",
        "\n",
        "        # Check if string exists in variable 'string_to_index', \n",
        "        # if string does not exist, add a new element to 'string_to_index': the current length of 'string_to_index'\n",
        "        \n",
        "    return string_to_index\n",
        "        \n",
        "# Convert all words and tags in train_data to lists, start with empty lists and use '.append()' \n",
        "# to add one word / tag at a time, similar to the cell below 'pre-process the data'\n",
        "words, tags = [], []\n",
        "\n",
        "for sentence in train_data:\n",
        "    for word in sentence:\n",
        "        words.append(word[0])\n",
        "        tags.append(word[1])\n",
        "\n",
        "\n",
        "\n",
        "\n",
        "# Call the help function you made, to build an index for words (word_to_index), and one index for tags (tag_to_index)\n",
        "\n",
        "word_to_index = build_index(words , ['<pad>' , '<unk>'])\n",
        "tag_to_index = build_index(tags ,['<pad>'] )\n",
        "# Check number of words and tags\n",
        "num_words = len(word_to_index)\n",
        "num_tags = len(tag_to_index)\n",
        "\n",
        "print(f'Number of unique words in the training data: {num_words}')\n",
        "print(f'Number of unique tags in the training_data: {num_tags}')\n",
        "\n",
        "# You should get 19674 unique words and 18 unique tags (17 universal POS tags + padding) \n",
        "# '<pad>' should be included as a tag. (Hint: init in build_index)\n",
        "# '<pad>' and '<unk>' (unknown) should be included as words (Hint: init in build_index)"
      ]
    },
    {
      "cell_type": "code",
      "execution_count": 18,
      "metadata": {
        "id": "XdoE2pa0F5eF",
        "colab": {
          "base_uri": "https://localhost:8080/"
        },
        "outputId": "6ddc98fa-748a-4412-928a-371f70f7720f"
      },
      "outputs": [
        {
          "output_type": "stream",
          "name": "stdout",
          "text": [
            "(12543, 159)\n",
            "(12543, 159, 18)\n"
          ]
        }
      ],
      "source": [
        "from tensorflow.keras.preprocessing.sequence import pad_sequences\n",
        "from tensorflow.keras.utils import to_categorical\n",
        "import numpy as np\n",
        "# Make a function that converts the tagged sentences, word indices and tag indices to \n",
        "# X and Y, that can be used when training the RNN\n",
        "def encode(tagged_sentences, word_to_index, tag_to_index):\n",
        "    \n",
        "    # Start with empty lists that will contain all training examples and corresponding output\n",
        "    X, Y = [], []\n",
        "    \n",
        "    # Loop over tagged sentences\n",
        "    for  sentence in tagged_sentences:\n",
        "        # Make empty lists for current sentence\n",
        "        Xcurrent, Ycurrent = [], []\n",
        "    \n",
        "        # Loop over words and tags in current sentence\n",
        "        for word in sentence:            \n",
        "            current_word = word[0]\n",
        "            wordIndex = word_to_index.get(current_word)\n",
        "            # Append the index for the current word to Xcurrent,\n",
        "            # if the word does not exist in 'word_to_index', add the index for '<unk>' instead\n",
        "            # Append the index for the current tag to Ycurrent\n",
        "            if wordIndex == None:\n",
        "                Xcurrent.append(word_to_index.get('<unk>'))       \n",
        "            else:\n",
        "                Xcurrent.append(wordIndex)\n",
        "           \n",
        "            current_tag = word[1]\n",
        "            tagIndex = tag_to_index.get(current_tag)            \n",
        "            Ycurrent.append(tagIndex)        \n",
        "                             \n",
        "        # Append X with Xcurrent, and Y with Ycurrent\n",
        "        X.append(Xcurrent)\n",
        "        Y.append(Ycurrent)\n",
        "    \n",
        "    # Pad the sequences, so that all have the same length\n",
        "    X = pad_sequences(X, padding='post')\n",
        "    # Convert labels to categorical, as you did in the CNN lab\n",
        "    Y = pad_sequences( Y, padding='post' )    \n",
        "    Y = to_categorical(Y)\n",
        "    return X, Y\n",
        "    \n",
        "# Use your 'encode' function to create Xtrain and Ytrain from train_data, word_to_index, tag_to_index\n",
        "\n",
        "\n",
        "# Print the shape of Xtrain and Ytrain\n",
        "\n",
        "Xtrain , Ytrain = encode(train_data, word_to_index, tag_to_index)\n",
        "\n",
        "print(np.shape(Xtrain))\n",
        "print(np.shape(Ytrain))\n",
        "\n",
        "# The shapes should be\n",
        "# (12543, 159)\n",
        "# (12543, 159, 18)"
      ]
    },
    {
      "cell_type": "markdown",
      "metadata": {
        "id": "ipAGRyKCF5eG"
      },
      "source": [
        "## Part 2: Construct the model"
      ]
    },
    {
      "cell_type": "markdown",
      "metadata": {
        "id": "bE1za7sMF5eG"
      },
      "source": [
        "To implement the network architecture, you need to find and instantiate the relevant building blocks from the Keras library. Note that Keras layers support a large number of optional parameters; use the default values unless you have a good reason not to. Two mandatory parameters that you will have to specify are the dimensionality of the embedding and the dimensionality of the output of the LSTM layer. The following values are reasonable starting points, but do try a number of different settings.\n",
        "\n",
        "* dimensionality of the embedding: 100\n",
        "* dimensionality of the output of the bidirectional LSTM layer: 100\n",
        "\n",
        "You will also have to choose an appropriate loss function for MULTI-class classification (18 classes). For training we recommend the Adam optimiser."
      ]
    },
    {
      "cell_type": "code",
      "execution_count": 19,
      "metadata": {
        "id": "gr4RHWR_F5eG"
      },
      "outputs": [],
      "source": [
        "from tensorflow.keras import Sequential , activations\n",
        "# Import necessary layers\n",
        "from tensorflow.keras.layers import Embedding, LSTM, Dense, Bidirectional\n",
        "from tensorflow.keras.losses import CategoricalCrossentropy\n",
        "from tensorflow.keras.utils import plot_model\n",
        "from tensorflow import keras\n",
        "\n",
        "def getModel(embedding_dim, hidden_dim, output_dense):\n",
        "  # Create model, similar to how it was done in the DNN and CNN labs\n",
        "  model1 = Sequential()\n",
        "\n",
        "  # The model should have an embedding layer, a bidirectional LSTM, and a dense softmax layer \n",
        "  model1.add(Embedding(input_dim = len(word_to_index), output_dim=embedding_dim ))\n",
        "  model1.add(Bidirectional(LSTM(hidden_dim, return_sequences=True)))\n",
        "  model1.add(Dense(output_dense , activation = activations.softmax))\n",
        "\n",
        "  # (see the network architecture image)\n",
        "\n",
        "  plot_model(model1)\n",
        "\n",
        "  # Compile model\n",
        "  model1.compile(\n",
        "          optimizer = tf.keras.optimizers.Adam(learning_rate=0.01),\n",
        "          metrics = ['accuracy'],\n",
        "          loss =  CategoricalCrossentropy(),\n",
        "          )\n",
        "\n",
        "  # Print a summary of the model\n",
        "  model1.summary()\n",
        "  return model1"
      ]
    },
    {
      "cell_type": "markdown",
      "metadata": {
        "id": "c4vq6NPTF5eH"
      },
      "source": [
        "## Part 3: Train the network"
      ]
    },
    {
      "cell_type": "markdown",
      "metadata": {
        "id": "GLbgK-23F5eH"
      },
      "source": [
        "The next step is to train the network. Use the following parameters:\n",
        "\n",
        "* number of epochs: 10\n",
        "* batch size: 32\n",
        "\n",
        "Training will print the average running loss on the training data after each minibatch. In addition to that, we ask you to also print the loss and accuracy on the development data after each epoch. You can do so by providing the `validation_data` argument to the `fit` method.\n",
        "\n",
        "Note that the `fit` method returns a [`History`](https://keras.io/callbacks/#history) object that contains useful information about the training. We will use that information in the next step."
      ]
    },
    {
      "cell_type": "code",
      "execution_count": 20,
      "metadata": {
        "id": "FgMEHb4hF5eH",
        "colab": {
          "base_uri": "https://localhost:8080/"
        },
        "outputId": "55c972fe-dd78-408f-fe3a-324bad3e4c88"
      },
      "outputs": [
        {
          "output_type": "stream",
          "name": "stdout",
          "text": [
            "Model: \"sequential_2\"\n",
            "_________________________________________________________________\n",
            " Layer (type)                Output Shape              Param #   \n",
            "=================================================================\n",
            " embedding_2 (Embedding)     (None, None, 100)         1967400   \n",
            "                                                                 \n",
            " bidirectional_2 (Bidirectio  (None, None, 200)        160800    \n",
            " nal)                                                            \n",
            "                                                                 \n",
            " dense_2 (Dense)             (None, None, 18)          3618      \n",
            "                                                                 \n",
            "=================================================================\n",
            "Total params: 2,131,818\n",
            "Trainable params: 2,131,818\n",
            "Non-trainable params: 0\n",
            "_________________________________________________________________\n",
            "Epoch 1/10\n",
            "392/392 [==============================] - 124s 305ms/step - loss: 0.0767 - accuracy: 0.9777 - val_loss: 0.0494 - val_accuracy: 0.9843\n",
            "Epoch 2/10\n",
            "392/392 [==============================] - 118s 300ms/step - loss: 0.0122 - accuracy: 0.9962 - val_loss: 0.0521 - val_accuracy: 0.9840\n",
            "Epoch 3/10\n",
            "392/392 [==============================] - 117s 298ms/step - loss: 0.0068 - accuracy: 0.9978 - val_loss: 0.0603 - val_accuracy: 0.9846\n",
            "Epoch 4/10\n",
            "392/392 [==============================] - 116s 296ms/step - loss: 0.0042 - accuracy: 0.9986 - val_loss: 0.0609 - val_accuracy: 0.9848\n",
            "Epoch 5/10\n",
            "392/392 [==============================] - 116s 297ms/step - loss: 0.0029 - accuracy: 0.9991 - val_loss: 0.0716 - val_accuracy: 0.9845\n",
            "Epoch 6/10\n",
            "392/392 [==============================] - 118s 301ms/step - loss: 0.0021 - accuracy: 0.9993 - val_loss: 0.0822 - val_accuracy: 0.9838\n",
            "Epoch 7/10\n",
            "392/392 [==============================] - 116s 296ms/step - loss: 0.0019 - accuracy: 0.9994 - val_loss: 0.0811 - val_accuracy: 0.9841\n",
            "Epoch 8/10\n",
            "392/392 [==============================] - 119s 304ms/step - loss: 0.0021 - accuracy: 0.9993 - val_loss: 0.0857 - val_accuracy: 0.9837\n",
            "Epoch 9/10\n",
            "392/392 [==============================] - 116s 296ms/step - loss: 0.0023 - accuracy: 0.9993 - val_loss: 0.0933 - val_accuracy: 0.9834\n",
            "Epoch 10/10\n",
            "392/392 [==============================] - 117s 300ms/step - loss: 0.0023 - accuracy: 0.9992 - val_loss: 0.1036 - val_accuracy: 0.9831\n"
          ]
        }
      ],
      "source": [
        "# estimated time = 20 mins 30 sec\n",
        "import keras\n",
        "import tensorflow as tf\n",
        "\n",
        "# Encode the development (validation data) using the 'encode' function you created before, to get Xval and Yval\n",
        "Xdev , Ydev =  encode(dev_data, word_to_index, tag_to_index)\n",
        "\n",
        "batch_size = 32\n",
        "epochs = 10\n",
        "\n",
        "embedding_dim = 100\n",
        "hidden_dim = 100\n",
        "output_dense = len(tag_to_index)\n",
        "\n",
        "\n",
        "# Train the model and save the history, as you did in the DNN and CNN labs, provide validation data\n",
        "model1 = getModel(embedding_dim, hidden_dim, output_dense)\n",
        "history = model1.fit(x = Xtrain, y = Ytrain, batch_size = batch_size, epochs=epochs, validation_data=(Xdev, Ydev))\n"
      ]
    },
    {
      "cell_type": "markdown",
      "metadata": {
        "id": "0eUKQpFSF5eI"
      },
      "source": [
        "## Part 4: Identify a good model"
      ]
    },
    {
      "cell_type": "markdown",
      "metadata": {
        "id": "heCmAsc6F5eI"
      },
      "source": [
        "The following code will plot the loss on the training data and the loss on the validation data after each epoch:"
      ]
    },
    {
      "cell_type": "code",
      "execution_count": 21,
      "metadata": {
        "id": "WCdR89qEF5eI"
      },
      "outputs": [],
      "source": [
        "# Lets define a help function for plotting the training results\n",
        "import matplotlib.pyplot as plt\n",
        "\n",
        "def plot_results(history):\n",
        "    \n",
        "    val_loss = history.history['val_loss']\n",
        "    acc = history.history['accuracy']\n",
        "    loss = history.history['loss']\n",
        "    val_acc = history.history['val_accuracy']\n",
        "    \n",
        "    plt.figure(figsize=(10,4))\n",
        "    plt.xlabel('Epochs')\n",
        "    plt.ylabel('Loss')\n",
        "    plt.plot(loss)\n",
        "    plt.plot(val_loss)\n",
        "    plt.legend(['Training','Validation'])\n",
        "\n",
        "    plt.figure(figsize=(10,4))\n",
        "    plt.xlabel('Epochs')\n",
        "    plt.ylabel('Accuracy')\n",
        "    plt.plot(acc)\n",
        "    plt.plot(val_acc)\n",
        "    plt.legend(['Training','Validation'])\n",
        "\n",
        "    plt.show()"
      ]
    },
    {
      "cell_type": "code",
      "execution_count": 22,
      "metadata": {
        "id": "vsPV0n9PF5eJ",
        "colab": {
          "base_uri": "https://localhost:8080/",
          "height": 541
        },
        "outputId": "dd8bb3c8-9a4b-44b4-bbf2-28b14a136b60"
      },
      "outputs": [
        {
          "output_type": "display_data",
          "data": {
            "text/plain": [
              "<Figure size 720x288 with 1 Axes>"
            ],
            "image/png": "[encoded data removed]"
          },
          "metadata": {
            "needs_background": "light"
          }
        },
        {
          "output_type": "display_data",
          "data": {
            "text/plain": [
              "<Figure size 720x288 with 1 Axes>"
            ],
            "image/png": "[encoded data removed]"
          },
          "metadata": {
            "needs_background": "light"
          }
        }
      ],
      "source": [
        "plot_results(history)"
      ]
    },
    {
      "cell_type": "markdown",
      "metadata": {
        "id": "A8wVoTvYF5eJ"
      },
      "source": [
        "Look at the plot and determine the epoch after which the model starts to overfit. Then, re-train your model using that many epochs and compute the accuracy of the tagger on the test data."
      ]
    },
    {
      "cell_type": "code",
      "execution_count": 23,
      "metadata": {
        "id": "DaBG-FkMF5eK",
        "colab": {
          "base_uri": "https://localhost:8080/"
        },
        "outputId": "f5be7a25-b57b-47a5-ad9a-4b226ac3a395"
      },
      "outputs": [
        {
          "output_type": "stream",
          "name": "stdout",
          "text": [
            "Model: \"sequential_3\"\n",
            "_________________________________________________________________\n",
            " Layer (type)                Output Shape              Param #   \n",
            "=================================================================\n",
            " embedding_3 (Embedding)     (None, None, 30)          590220    \n",
            "                                                                 \n",
            " bidirectional_3 (Bidirectio  (None, None, 200)        104800    \n",
            " nal)                                                            \n",
            "                                                                 \n",
            " dense_3 (Dense)             (None, None, 18)          3618      \n",
            "                                                                 \n",
            "=================================================================\n",
            "Total params: 698,638\n",
            "Trainable params: 698,638\n",
            "Non-trainable params: 0\n",
            "_________________________________________________________________\n",
            "Epoch 1/2\n",
            "392/392 [==============================] - 95s 234ms/step - loss: 0.0986 - accuracy: 0.9723 - val_loss: 0.0537 - val_accuracy: 0.9834\n",
            "Epoch 2/2\n",
            "392/392 [==============================] - 90s 230ms/step - loss: 0.0152 - accuracy: 0.9954 - val_loss: 0.0488 - val_accuracy: 0.9856\n",
            "65/65 [==============================] - 3s 32ms/step - loss: 0.0411 - accuracy: 0.9873\n",
            "Test loss: 0.0411\n",
            "Test accuracy: 0.9873\n"
          ]
        }
      ],
      "source": [
        "# Encode the test_data using the 'encode' function you created before, to get Xtest and Ytest\n",
        "Xtest, Ytest = encode(test_data, word_to_index, tag_to_index)\n",
        "\n",
        "\n",
        "embedding_dim = 30\n",
        "hidden_dim = 100\n",
        "output_dense = len(tag_to_index)\n",
        "\n",
        "\n",
        "model2 = getModel(embedding_dim, hidden_dim, output_dense)\n",
        "history2 = model2.fit(x = Xtrain, y = Ytrain, batch_size = batch_size, epochs = 2, validation_data=(Xdev, Ydev))\n",
        "\n",
        "# Evaluate the model on test data, as you did in the DNN and CNN lab\n",
        "score = model2.evaluate(x = Xtest, y = Ytest)\n",
        "print('Test loss: %.4f' % score[0])\n",
        "print('Test accuracy: %.4f' % score[1])\n",
        "\n"
      ]
    },
    {
      "cell_type": "markdown",
      "metadata": {
        "id": "kLWurBeLF5eK"
      },
      "source": [
        "## Submission"
      ]
    },
    {
      "cell_type": "markdown",
      "metadata": {
        "id": "FdKScPOIF5eK"
      },
      "source": [
        "Your notebook should include all your code, and should be runnable without further modification. It should also include answers to the following questions:\n",
        "\n",
        "How many epochs did you train the final model for?\n",
        "*   2   \n",
        "\n",
        "What accuracy did you achieve on the test data?\n",
        "*   Test accuracy: 0.9868\n",
        "\n",
        "\n",
        "What dimensionality of the embedding did you use for your best results?\n",
        "*   dimensionality of the embedding = 30\n",
        "\n",
        "\n",
        "What dimensionality of the output of the bidirectional LSTM layer did you use for your best results?\n",
        "*   dimensionality of the output of the bidirectional LSTM = 100\n",
        "\n",
        "Instead of manually identifying a good model, and redoing the training to that number of epochs, how can you automatically stop the training when the validation performance does not improve anymore? Hint: see Lecture 2\n",
        "*   We can stop the training by Early Stopping to Halt the Training of Neural Networks At the Right Time\n",
        "\n",
        "What did you find particularly surprising or hard?\n",
        "*   The tuning of the model, eg there is high accuracy that result in overfitting.\n",
        "\n",
        "How do you calculate the number of parameters in the embedding layer? Hint: the calculation includes the vocabulary size and the embedding dimension\n",
        "*   vocabulary size = 19674\n",
        "*   embedding dimension = 100\n",
        "*   Therefore number of parameters in the embedding layer = 19674 * 100 = 1967400. Which can also be seen in summary of the model. \n",
        "```\n",
        " Model: \"sequential\"\n",
        " _________________________________________________________________\n",
        " Layer (type)                Output Shape              Param #   \n",
        "=================================================================\n",
        " embedding (Embedding)       (None, None, 100)         1967400   \n",
        "```\n",
        "\n",
        "How do you calculate the number of parameters in the bidirectional LSTM layer? Hint: A LSTM layer has 4 parts; cell, input gate, output gate, forget gate, each part contains two weight matrices and a bias vector. A bidirectional LSTM contains two LSTMs.\n",
        "\n",
        "https://en.wikipedia.org/wiki/Long_short-term_memory\n",
        "\n",
        "*   params = 4 * ((size_of_input + 1) * size_of_output + size_of_output^2)\n"
      ]
    },
    {
      "cell_type": "markdown",
      "metadata": {
        "id": "-jrs5nzAF5eK"
      },
      "source": [
        "*Insert your answers here.*"
      ]
    },
    {
      "cell_type": "markdown",
      "metadata": {
        "id": "R6-w5E3tF5eL"
      },
      "source": [
        "## Ethics in deep learning\n",
        "\n",
        "Now that you have watched the 5 lectures, and completed the 3 laborations in this course, what do you think is the most important ethical question related to deep learning? Motivate your answer.\n",
        "\n"
      ]
    },
    {
      "cell_type": "markdown",
      "metadata": {
        "id": "m-nnPu0kF5eL"
      },
      "source": [
        "The most important ethical question are. \n",
        "\n",
        "\n",
        "*   How the model are designed? and how will it impact around people lives?\n",
        "*   How the data is collected from its source?\n",
        " * If the data is collected from peoples? are they aware of that?\n",
        " * Is the data stripped of personal information?\n",
        "* Another question is that what if model gives errorsome results? \n",
        " * Who is responsible for those errors?\n",
        " * If the model has unintended consiques, what should be done?\n",
        "\n"
      ]
    }
  ],
  "metadata": {
    "kernelspec": {
      "display_name": "Python 3 (ipykernel)",
      "language": "python",
      "name": "python3"
    },
    "language_info": {
      "codemirror_mode": {
        "name": "ipython",
        "version": 3
      },
      "file_extension": ".py",
      "mimetype": "text/x-python",
      "name": "python",
      "nbconvert_exporter": "python",
      "pygments_lexer": "ipython3",
      "version": "3.8.10"
    },
    "colab": {
      "name": "RNN_Lab_2022.ipynb",
      "provenance": [],
      "collapsed_sections": []
    }
  },
  "nbformat": 4,
  "nbformat_minor": 0
}