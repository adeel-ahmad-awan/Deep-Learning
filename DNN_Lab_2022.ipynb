{
  "cells": [
    {
      "cell_type": "markdown",
      "source": [
        "estimated time = 3371 sec"
      ],
      "metadata": {
        "id": "3MJnGuQbo0xo"
      }
    },
    {
      "cell_type": "markdown",
      "metadata": {
        "id": "ObDRUaB6BssF"
      },
      "source": [
        "# Deep Neural Networks Laboration\n",
        "\n",
        "Data used in this laboration are from the Kitsune Network Attack Dataset, https://archive.ics.uci.edu/ml/datasets/Kitsune+Network+Attack+Dataset . We will focus on the 'Mirai' part of the dataset. Your task is to make a DNN that can classify if each attack is benign or malicious. The dataset has 116 covariates, but to make it a bit more difficult we will remove the first 24 covariates.\n",
        "\n",
        "You need to answer all questions in this notebook."
      ]
    },
    {
      "cell_type": "markdown",
      "metadata": {
        "id": "MPqCrxB7BssI"
      },
      "source": [
        "# Part 1: Get the data\n",
        "\n",
        "Skip this part if you load stored numpy arrays (Mirai*.npy) (which is recommended)\n",
        "\n",
        "Use `wget` in the terminal of your cloud machine (in the same directory as where you have saved this notebook) to download the data, i.e.\n",
        "\n",
        "wget https://archive.ics.uci.edu/ml/machine-learning-databases/00516/mirai/Mirai_dataset.csv.gz\n",
        "\n",
        "wget https://archive.ics.uci.edu/ml/machine-learning-databases/00516/mirai/Mirai_labels.csv.gz\n",
        "\n",
        "Then unpack the files using `gunzip` in the terminal, i.e.\n",
        "\n",
        "gunzip Mirai_dataset.csv.gz\n",
        "\n",
        "gunzip Mirai_labels.csv.gz"
      ]
    },
    {
      "cell_type": "code",
      "execution_count": 1,
      "metadata": {
        "colab": {
          "base_uri": "https://localhost:8080/"
        },
        "id": "NGqFf_LDBssK",
        "outputId": "327bab23-f941-4ec6-921a-0a5b7df10788"
      },
      "outputs": [
        {
          "output_type": "stream",
          "name": "stdout",
          "text": [
            "--2022-05-20 12:48:47--  https://archive.ics.uci.edu/ml/machine-learning-databases/00516/mirai/Mirai_dataset.csv.gz\n",
            "Resolving archive.ics.uci.edu (archive.ics.uci.edu)... 128.195.10.252\n",
            "Connecting to archive.ics.uci.edu (archive.ics.uci.edu)|128.195.10.252|:443... connected.\n",
            "HTTP request sent, awaiting response... 200 OK\n",
            "Length: 328662266 (313M) [application/x-httpd-php]\n",
            "Saving to: ‘Mirai_dataset.csv.gz’\n",
            "\n",
            "Mirai_dataset.csv.g 100%[===================>] 313.44M  16.9MB/s    in 19s     \n",
            "\n",
            "2022-05-20 12:49:07 (16.2 MB/s) - ‘Mirai_dataset.csv.gz’ saved [328662266/328662266]\n",
            "\n",
            "--2022-05-20 12:49:07--  https://archive.ics.uci.edu/ml/machine-learning-databases/00516/mirai/Mirai_labels.csv.gz\n",
            "Resolving archive.ics.uci.edu (archive.ics.uci.edu)... 128.195.10.252\n",
            "Connecting to archive.ics.uci.edu (archive.ics.uci.edu)|128.195.10.252|:443... connected.\n",
            "HTTP request sent, awaiting response... 200 OK\n",
            "Length: 2281 (2.2K) [application/x-httpd-php]\n",
            "Saving to: ‘Mirai_labels.csv.gz’\n",
            "\n",
            "Mirai_labels.csv.gz 100%[===================>]   2.23K  --.-KB/s    in 0s      \n",
            "\n",
            "2022-05-20 12:49:08 (113 MB/s) - ‘Mirai_labels.csv.gz’ saved [2281/2281]\n",
            "\n"
          ]
        }
      ],
      "source": [
        "# data is downloaded on runtime.\n",
        "# downloaded speed  18.5MB/s and downloaded in 5.9s    \n",
        "!wget https://archive.ics.uci.edu/ml/machine-learning-databases/00516/mirai/Mirai_dataset.csv.gz\n",
        "!wget https://archive.ics.uci.edu/ml/machine-learning-databases/00516/mirai/Mirai_labels.csv.gz\n",
        "!gunzip Mirai_dataset.csv.gz\n",
        "!gunzip Mirai_labels.csv.gz"
      ]
    },
    {
      "cell_type": "markdown",
      "metadata": {
        "id": "nMSqOrPSBssN"
      },
      "source": [
        "# Part 2: Get a graphics card\n",
        "\n",
        "Skip this part if you run on the CPU (recommended)\n",
        "\n",
        "Lets make sure that our script can see the graphics card that will be used. The graphics cards will perform all the time consuming calculations in every training iteration."
      ]
    },
    {
      "cell_type": "code",
      "execution_count": 2,
      "metadata": {
        "id": "xZN73rQsBssO"
      },
      "outputs": [],
      "source": [
        "import os\n",
        "import warnings\n",
        "\n",
        "# Ignore FutureWarning from numpy\n",
        "warnings.simplefilter(action='ignore', category=FutureWarning)\n",
        "\n",
        "# import keras.backend as K\n",
        "import tensorflow as tf\n",
        "\n",
        "# os.environ[\"CUDA_DEVICE_ORDER\"]=\"PCI_BUS_ID\";\n",
        " \n",
        "# The GPU id to use, usually either \"0\" or \"1\";\n",
        "# os.environ[\"CUDA_VISIBLE_DEVICES\"]=\"0\";\n",
        "\n",
        "# Allow growth of GPU memory, otherwise it will always look like all the memory is being used\n",
        "physical_devices = tf.config.experimental.list_physical_devices('GPU')\n",
        "# tf.config.experimental.set_memory_growth(physical_devices[0], True) "
      ]
    },
    {
      "cell_type": "code",
      "execution_count": 3,
      "metadata": {
        "id": "-pgglWJLBssQ"
      },
      "outputs": [],
      "source": [
        "# skipped"
      ]
    },
    {
      "cell_type": "markdown",
      "metadata": {
        "id": "Yrtaga51BssR"
      },
      "source": [
        "# Part 3: Hardware\n",
        "\n",
        "In deep learning, the computer hardware is very important. You should always know what kind of hardware you are working on. Lets pretend that everyone is using an Nvidia RTX 3090 graphics card.\n",
        "\n",
        "Question 1: Google the name of the graphics card, how many CUDA cores does it have?\n",
        "*   NVIDIA CUDA Cores = 10496\n",
        "\n",
        "Question 2: How much memory does the graphics card have?\n",
        "*   Standard Memory Config = 24 GB GDDR6X\n",
        "\n",
        "Question 3: What is stored in the GPU memory while training a DNN ?\n",
        "*   Input data, weight parameters, all the necessary information for backpropagating the error and all the necessary information to compute the gradient of the model parameters\n"
      ]
    },
    {
      "cell_type": "markdown",
      "metadata": {
        "id": "-OjzDyvOBssS"
      },
      "source": [
        "# Part 4: Load the data\n",
        "\n",
        "To make this step easier, directly load the data from saved numpy arrays (.npy) (recommended)\n",
        "\n",
        "\n",
        "Load the dataset from the csv files, it will take some time since it is almost 1.4 GB. (not recommended, unless you want to learn how to do it)\n",
        "\n",
        "We will use the function `genfromtxt` to load the data. (not recommended, unless you want to learn how to do it)\n",
        "\n",
        "https://docs.scipy.org/doc/numpy/reference/generated/numpy.genfromtxt.html\n",
        "\n",
        "Load the data from csv files the first time, then save the data as numpy files for faster loading the next time.\n"
      ]
    },
    {
      "cell_type": "code",
      "execution_count": 4,
      "metadata": {
        "colab": {
          "base_uri": "https://localhost:8080/"
        },
        "id": "Dviblun7BssT",
        "outputId": "1e475d20-c44f-4ea3-f201-f2701c57e3e7"
      },
      "outputs": [
        {
          "output_type": "stream",
          "name": "stdout",
          "text": [
            "The covariates have size (764136, 116)  before removing the first 24 covariates\n",
            "The covariates have size (764136, 92)  after removing the first 24 covariates\n",
            "\n",
            "The covariates have size (764136, 92).\n",
            "The labels have size (764136, 1).\n",
            "\n",
            "\n",
            "number of examples of class: 0 = 121620\n",
            "number of examples of class: 1 = 642516\n"
          ]
        }
      ],
      "source": [
        "from numpy import genfromtxt # Not needed if you load data from numpy arrays\n",
        "import numpy as np\n",
        "import pandas as pd\n",
        "\n",
        "# Load data from numpy arrays, choose reduced files if the training takes too long\n",
        "X = pd.read_csv('Mirai_dataset.csv').to_numpy()\n",
        "Y = pd.read_csv('Mirai_labels.csv').to_numpy()\n",
        "\n",
        "\n",
        "\n",
        "# Remove the first 24 covariates (columns)\n",
        "print('The covariates have size {} '.format(X.shape) + ' before removing the first 24 covariates')\n",
        "X = X[:,24:]\n",
        "print('The covariates have size {} '.format(X.shape) + ' after removing the first 24 covariates' + '\\n')\n",
        "\n",
        "print('The covariates have size {}.'.format(X.shape))\n",
        "print('The labels have size {}.'.format(Y.shape))\n",
        "\n",
        "# Print the number of examples of each class\n",
        "classes, frequency = np.unique(Y, return_counts=True)\n",
        "\n",
        "print('\\n')\n",
        "for i in range(len(classes)):\n",
        "  print('number of examples of class: ' + str(classes[i]) + ' = ' + str(frequency[i]))\n"
      ]
    },
    {
      "cell_type": "markdown",
      "metadata": {
        "id": "kpwjxECKBssV"
      },
      "source": [
        "# Part 5: How good is a naive classifier?\n",
        "\n",
        "Question 4: Given the number of examples from each class, how high classification performance can a naive classifier obtain? The naive classifier will assume that all examples belong to one class. Note: you do not need to make a naive classifier, this is a theoretical question, just to understand how good performance we can obtain by guessing that all examples belong to one class.\n",
        "*   Lets say that the naive classifier will assume all the classes from class 0. In that case the calculations is as follows\n",
        "```\n",
        "Total number of examples = 764136\n",
        "number of examples of class: 0 = 121620\n",
        "The percentage for correct classifications will be (121620/764136) * 100\n",
        "= 15.916\n",
        "```\n",
        "*   On the other hand lets say that the naive classifier will assume all the classes from class 1. In that case the calculations is as follows\n",
        "```\n",
        "Total number of examples = 764136\n",
        "number of examples of class: 1 = 642516\n",
        "The percentage for correct classifications will be (642516/764136) * 100\n",
        "= 84.0940\n",
        "```\n"
      ]
    },
    {
      "cell_type": "code",
      "execution_count": 5,
      "metadata": {
        "colab": {
          "base_uri": "https://localhost:8080/"
        },
        "id": "KNEakNX8BssV",
        "outputId": "783681ea-52e3-474f-cead-f044465af935"
      },
      "outputs": [
        {
          "output_type": "stream",
          "name": "stdout",
          "text": [
            "the number of NaNs in the labels = 0.\n",
            "the number of NaNs in the covariates = 0.\n"
          ]
        }
      ],
      "source": [
        "# It is common to have NaNs in the data, lets check for it. Hint: np.isnan()\n",
        "\n",
        "# Print the number of NaNs (not a number) in the labels\n",
        "count = np.isnan(Y).sum()\n",
        "print('the number of NaNs in the labels = {}.'.format(count))\n",
        "# Print the number of NaNs in the covariates\n",
        "count = np.isnan(X).sum()\n",
        "print('the number of NaNs in the covariates = {}.'.format(count))\n"
      ]
    },
    {
      "cell_type": "markdown",
      "metadata": {
        "id": "Bi4NmZSLBssW"
      },
      "source": [
        "# Part 6: Preprocessing\n",
        "\n",
        "Lets do some simple preprocessing"
      ]
    },
    {
      "cell_type": "code",
      "execution_count": 6,
      "metadata": {
        "colab": {
          "base_uri": "https://localhost:8080/"
        },
        "id": "oT6YlLW9BssW",
        "outputId": "79dc6f77-19f7-408b-e5ea-ab330538ad0a"
      },
      "outputs": [
        {
          "output_type": "stream",
          "name": "stdout",
          "text": [
            "Data type for covariates: float64\n",
            "Data type for labels: int64\n",
            "\n",
            "[ 5.20259039e-18  3.18385513e-16 -1.41071563e-15 -2.48459723e-17\n",
            " -3.04697912e-16 -1.19186278e-15 -1.65218277e-16 -1.27019454e-15\n",
            "  1.72032322e-15 -7.61744780e-17  7.85102969e-16 -9.67058803e-19\n",
            "  3.39400445e-18 -2.66313116e-17  5.39321255e-17 -1.80170494e-16\n",
            "  1.73921806e-16 -1.55763417e-15  7.22504509e-18 -9.44742061e-18\n",
            " -4.66419899e-17 -1.73029137e-16  2.70776465e-16  8.86718533e-17\n",
            " -1.26126785e-15  2.18146149e-17  3.42190038e-18  7.12647948e-17\n",
            " -5.62009943e-16 -6.84528854e-16 -6.38258810e-17 -1.00202170e-15\n",
            " -2.17774203e-17  1.05632577e-17  2.16844339e-17  5.46016278e-17\n",
            "  4.11074380e-16 -2.18704068e-16  4.98407229e-18 -1.97875109e-17\n",
            " -4.56749311e-17  5.99576458e-17 -1.25115092e-15 -3.35680988e-18\n",
            "  1.33342531e-17  7.00745686e-17  7.99683241e-18  6.22916050e-17\n",
            " -1.62912214e-16 -9.70778260e-18  5.00638903e-17 -5.37238359e-16\n",
            " -6.45325778e-18 -1.16790948e-17  2.20191850e-17  2.38045244e-18\n",
            " -7.98195458e-17  5.18492296e-16  2.93241985e-16 -9.78217173e-18\n",
            "  4.33391122e-16  3.08714925e-18  2.40661395e-18 -2.75239813e-18\n",
            "  7.33476907e-17 -6.40490484e-17  6.63365144e-17  4.18066959e-17\n",
            "  1.33156558e-17  1.21347282e-18 -1.90622168e-18  5.89310756e-16\n",
            " -8.65592017e-16 -8.92669664e-19 -2.79851940e-16 -2.99602256e-17\n",
            "  8.94994325e-19 -1.05260631e-17 -6.18917634e-16 -3.63018997e-16\n",
            " -2.13496828e-17  1.68067381e-15  3.51860626e-17  2.88316029e-18\n",
            " -8.86625546e-18 -2.18108955e-16 -6.29332113e-17 -3.86823521e-18\n",
            " -7.01266410e-16 -2.69288682e-17  2.35720583e-18  2.65941171e-18]\n",
            "[1. 1. 1. 1. 1. 1. 1. 1. 1. 1. 1. 1. 1. 1. 1. 1. 1. 1. 1. 1. 1. 1. 1. 1.\n",
            " 1. 1. 1. 1. 1. 1. 1. 1. 1. 1. 1. 1. 1. 1. 1. 1. 1. 1. 1. 1. 1. 1. 1. 1.\n",
            " 1. 1. 1. 1. 1. 1. 1. 1. 1. 1. 1. 1. 1. 1. 1. 1. 1. 1. 1. 1. 1. 1. 1. 1.\n",
            " 1. 1. 1. 1. 1. 1. 1. 1. 1. 1. 1. 1. 1. 1. 1. 1. 1. 1. 1. 1.]\n"
          ]
        }
      ],
      "source": [
        "# Convert covariates to floats\n",
        "X = X.astype('float64')\n",
        "print('Data type for covariates: ' + str(X.dtype))\n",
        "\n",
        "# Convert labels to integers\n",
        "Y = Y.astype(int)\n",
        "print('Data type for labels: ' + str(Y.dtype) + '\\n')\n",
        "\n",
        "# Remove mean of each covariate (column)\n",
        "X = X - X.mean(axis=0, keepdims=True)\n",
        "\n",
        "# Divide each covariate (column) by its standard deviation\n",
        "X = X / X.std(axis=0, keepdims=True)\n",
        "\n",
        "# Check that mean is 0 and standard deviation is 1 for all covariates, by printing mean and std\n",
        "print(np.mean(X,axis=0))\n",
        "print(np.std(X,axis=0))\n"
      ]
    },
    {
      "cell_type": "markdown",
      "metadata": {
        "id": "ndHgV0KKBssX"
      },
      "source": [
        "# Part 7: Split the dataset\n",
        "\n",
        "Use the first 70% of the dataset for training, leave the other 30% for validation and test, call the variables\n",
        "\n",
        "Xtrain (70%)\n",
        "\n",
        "Xtemp  (30%)\n",
        "\n",
        "Ytrain (70%)\n",
        "\n",
        "Ytemp  (30%)\n",
        "\n",
        "We use a function from scikit learn.\n",
        "https://scikit-learn.org/stable/modules/generated/sklearn.model_selection.train_test_split.html\n"
      ]
    },
    {
      "cell_type": "code",
      "execution_count": 7,
      "metadata": {
        "colab": {
          "base_uri": "https://localhost:8080/"
        },
        "id": "RIO73xMuBssX",
        "outputId": "0b846288-6db0-4531-9fc8-a01c0a48ab21"
      },
      "outputs": [
        {
          "output_type": "stream",
          "name": "stdout",
          "text": [
            "Xtrain has size (534895, 92).\n",
            "Ytrain has size (534895, 1).\n",
            "Xtemp has size (229241, 92).\n",
            "Ytemp has size (229241, 1).\n",
            "\n",
            "\n",
            "\n",
            "For training data the number of examples for each class is as follows\n",
            "class: 0 = 85248\n",
            "class: 1 = 449647\n",
            "\n",
            "\n",
            "\n",
            "For test and validation data the number of examples for each class is as follows\n",
            "class: 0 = 36372\n",
            "class: 1 = 192869\n"
          ]
        }
      ],
      "source": [
        "from sklearn.model_selection import train_test_split\n",
        "\n",
        "# Your code\n",
        "Xtrain, Xtemp, Ytrain, Ytemp = train_test_split(\n",
        "  X, Y, train_size = 0.7, test_size=0.3, random_state=42)\n",
        "\n",
        "\n",
        "print('Xtrain has size {}.'.format(Xtrain.shape))\n",
        "print('Ytrain has size {}.'.format(Ytrain.shape))\n",
        "\n",
        "print('Xtemp has size {}.'.format(Xtemp.shape))\n",
        "print('Ytemp has size {}.'.format(Ytemp.shape))\n",
        "print('\\n\\n')\n",
        "\n",
        "# Print the number of examples of each class, for the training data and the remaining 30%\n",
        "train_classes, train_frequency = np.unique(Ytrain, return_counts=True)\n",
        "print('For training data the number of examples for each class is as follows')\n",
        "for i in range(len(classes)):\n",
        "  print('class: ' + str(train_classes[i]) + ' = ' + str(train_frequency[i]))\n",
        "\n",
        "\n",
        "print('\\n\\n')\n",
        "temp_classes, temp_frequency = np.unique(Ytemp, return_counts=True)\n",
        "print('For test and validation data the number of examples for each class is as follows')\n",
        "for i in range(len(classes)):\n",
        "  print('class: ' + str(temp_classes[i]) + ' = ' + str(temp_frequency[i]))\n",
        "\n",
        "\n"
      ]
    },
    {
      "cell_type": "markdown",
      "metadata": {
        "id": "KQaDkMrvBssY"
      },
      "source": [
        "#  Part 8: Split non-training data data into validation and test\n",
        "Now split your non-training data (Xtemp, Ytemp) into 50% validation (Xval, Yval) and 50% testing (Xtest, Ytest), we use a function from scikit learn. In total this gives us 70% for training, 15% for validation, 15% for test.\n",
        "\n",
        "https://scikit-learn.org/stable/modules/generated/sklearn.model_selection.train_test_split.html\n",
        "\n",
        "Do all variables (Xtrain,Ytrain), (Xval,Yval), (Xtest,Ytest) have the shape that you expect?\n",
        "*   Yes all the variables in (Xtrain,Ytrain), (Xval,Yval), (Xtest,Ytest) shows the expected shape.\n",
        "```\n",
        "Xtrain has size (534895, 92).\n",
        "Ytrain has size (534895, 1).\n",
        "If we take 70 percent of 764136. It will be equal to\n",
        "= (764136/100)*70 = 534895.2\n",
        "similarly validation and test data have size (114620, 92), (114621, 92), (114620, 1) and (114621, 1)\n",
        "If we take 15 percent of 764136. It will be equal to\n",
        "= (764136/100)*15 = 114620.4\n",
        "```"
      ]
    },
    {
      "cell_type": "code",
      "execution_count": 8,
      "metadata": {
        "colab": {
          "base_uri": "https://localhost:8080/"
        },
        "id": "qc9HWLAIBssZ",
        "outputId": "1fa728f7-7399-4eef-bf9a-caa4b67b3736"
      },
      "outputs": [
        {
          "output_type": "stream",
          "name": "stdout",
          "text": [
            "The validation and test data have size (114620, 92), (114621, 92), (114620, 1) and (114621, 1)\n"
          ]
        }
      ],
      "source": [
        "from sklearn.model_selection import train_test_split\n",
        "\n",
        "Xval, Xtest, Yval, Ytest = train_test_split(\n",
        "  Xtemp, Ytemp, train_size = 0.5, test_size=0.5, random_state=42)\n",
        "\n",
        "\n",
        "print('The validation and test data have size {}, {}, {} and {}'.format(Xval.shape, Xtest.shape, Yval.shape, Ytest.shape))"
      ]
    },
    {
      "cell_type": "markdown",
      "metadata": {
        "id": "0t0614vSBssZ"
      },
      "source": [
        "# Part 9: DNN classification\n",
        "\n",
        "Finish this code to create a first version of the classifier using a DNN. Start with a simple network with 2 dense layers (with 20 nodes each), using sigmoid activation functions. The final dense layer should have a single node and a sigmoid activation function. We start with the SGD optimizer.\n",
        "\n",
        "For different parts of this notebook you need to go back here, add more things, and re-run this cell to re-define the build function.\n",
        "\n",
        "Relevant functions are\n",
        "\n",
        "`model.add()`, adds a layer to the network\n",
        "\n",
        "`Dense()`, a dense network layer\n",
        "\n",
        "`model.compile()`, compile the model, add \" metrics=['accuracy'] \" to print the classification accuracy during the training\n",
        "\n",
        "See https://keras.io/layers/core/ for information on how the `Dense()` function works\n",
        "\n",
        "Import a relevant cost / loss function for binary classification from keras.losses (https://keras.io/losses/)\n",
        "\n",
        "See the following links for how to compile, train and evaluate the model\n",
        "\n",
        "https://keras.io/api/models/model_training_apis/#compile-method\n",
        "\n",
        "https://keras.io/api/models/model_training_apis/#fit-method\n",
        "\n",
        "https://keras.io/api/models/model_training_apis/#evaluate-method\n"
      ]
    },
    {
      "cell_type": "code",
      "execution_count": 9,
      "metadata": {
        "id": "2qh0rjZNBssZ"
      },
      "outputs": [],
      "source": [
        "from keras.models import Sequential, Model\n",
        "from keras.layers import Input, Dense\n",
        "from tensorflow.keras.optimizers import SGD, Adam\n",
        "\n",
        "\n",
        "dropoutRateForKeras = 0.6\n",
        "customDropoutRateForKeras = 0.6\n",
        "\n",
        "# Set seed from random number generator, for better comparisons\n",
        "from numpy.random import seed\n",
        "seed(123)\n",
        "\n",
        "def build_DNN(input_shape, n_layers, n_nodes, act_fun='sigmoid', optimizer='sgd', learning_rate=0.01, \n",
        "              use_bn=False, use_dropout=False, use_custom_dropout=False):\n",
        "    \n",
        "    # Setup optimizer, depending on input parameter string\n",
        "    if optimizer == 'sgd':\n",
        "      opt = SGD(learning_rate=learning_rate)\n",
        "    if optimizer == 'Adam':\n",
        "      opt = Adam(learning_rate=learning_rate)\n",
        "\n",
        "    \n",
        "    # Setup a sequential model\n",
        "    model = Sequential()\n",
        "\n",
        "    # Add layers to the model, using the input parameters of the build_DNN function\n",
        "\n",
        "    # Add first layer, requires input shape\n",
        "    model.add(Dense(n_nodes, input_dim=input_shape[1], activation=act_fun))\n",
        "    if use_bn:\n",
        "      model.add(tf.keras.layers.BatchNormalization())\n",
        "    if use_dropout:\n",
        "      model.add(tf.keras.layers.Dropout(dropoutRateForKeras))\n",
        "    if use_custom_dropout:\n",
        "      myDropout(customDropoutRateForKeras)\n",
        "\n",
        "\n",
        "    # Add remaining layers, do not require input shape\n",
        "    for i in range(n_layers-1):\n",
        "      model.add(Dense(n_nodes, activation=act_fun))\n",
        "      if use_bn:\n",
        "        model.add(tf.keras.layers.BatchNormalization())\n",
        "      if use_dropout:\n",
        "        model.add(tf.keras.layers.Dropout(dropoutRateForKeras))\n",
        "      if use_custom_dropout:\n",
        "        myDropout(customDropoutRateForKeras)\n",
        "\n",
        "    # Add final layer\n",
        "    model.add(Dense(1, activation='sigmoid'))    \n",
        "    \n",
        "    # Compile model\n",
        "    model.compile(\n",
        "        loss = tf.keras.losses.BinaryCrossentropy(),\n",
        "        optimizer = opt,\n",
        "        metrics=['accuracy'])\n",
        "    \n",
        "    return model"
      ]
    },
    {
      "cell_type": "code",
      "execution_count": 10,
      "metadata": {
        "id": "BLRh1-Q0Bssa"
      },
      "outputs": [],
      "source": [
        "# Lets define a help function for plotting the training results\n",
        "\n",
        "import matplotlib.pyplot as plt\n",
        "def plot_results(history):\n",
        "    \n",
        "    val_loss = history.history['val_loss']\n",
        "    acc = history.history['accuracy']\n",
        "    loss = history.history['loss']\n",
        "    val_acc = history.history['val_accuracy']\n",
        "    \n",
        "    plt.figure(figsize=(10,4))\n",
        "    plt.xlabel('Epochs')\n",
        "    plt.ylabel('Loss')\n",
        "    plt.plot(loss)\n",
        "    plt.plot(val_loss)\n",
        "    plt.legend(['Training','Validation'])\n",
        "\n",
        "    plt.figure(figsize=(10,4))\n",
        "    plt.xlabel('Epochs')\n",
        "    plt.ylabel('Accuracy')\n",
        "    plt.plot(acc)\n",
        "    plt.plot(val_acc)\n",
        "    plt.legend(['Training','Validation'])\n",
        "\n",
        "    plt.show()"
      ]
    },
    {
      "cell_type": "markdown",
      "metadata": {
        "id": "5MKNV5BGBssa"
      },
      "source": [
        "# Part 10: Train the DNN\n",
        "\n",
        "Time to train the DNN, we start simple with 2 layers with 20 nodes each, learning rate 0.1.\n",
        "\n",
        "Relevant functions\n",
        "\n",
        "`build_DNN`, the function we defined in Part 9, call it with the parameters you want to use\n",
        "\n",
        "`model.fit()`, train the model with some training data\n",
        "\n",
        "`model.evaluate()`, apply the trained model to some test data\n",
        "\n",
        "See the following links for how to train and evaluate the model\n",
        "\n",
        "https://keras.io/api/models/model_training_apis/#fit-method\n",
        "\n",
        "https://keras.io/api/models/model_training_apis/#evaluate-method\n"
      ]
    },
    {
      "cell_type": "markdown",
      "metadata": {
        "id": "iEaSiv1SBssb"
      },
      "source": [
        "### 2 layers, 20 nodes"
      ]
    },
    {
      "cell_type": "code",
      "execution_count": 11,
      "metadata": {
        "colab": {
          "base_uri": "https://localhost:8080/"
        },
        "id": "Cu6kVl0bBssb",
        "outputId": "44bdc3ff-57b1-4257-871b-2b880586d313",
        "scrolled": true
      },
      "outputs": [
        {
          "output_type": "stream",
          "name": "stdout",
          "text": [
            "Epoch 1/20\n",
            "54/54 [==============================] - 1s 13ms/step - loss: 0.5555 - accuracy: 0.8411 - val_loss: 0.4797 - val_accuracy: 0.8413\n",
            "Epoch 2/20\n",
            "54/54 [==============================] - 1s 9ms/step - loss: 0.4563 - accuracy: 0.8406 - val_loss: 0.4394 - val_accuracy: 0.8413\n",
            "Epoch 3/20\n",
            "54/54 [==============================] - 1s 10ms/step - loss: 0.4331 - accuracy: 0.8406 - val_loss: 0.4268 - val_accuracy: 0.8413\n",
            "Epoch 4/20\n",
            "54/54 [==============================] - 1s 10ms/step - loss: 0.4243 - accuracy: 0.8406 - val_loss: 0.4204 - val_accuracy: 0.8413\n",
            "Epoch 5/20\n",
            "54/54 [==============================] - 1s 10ms/step - loss: 0.4190 - accuracy: 0.8406 - val_loss: 0.4157 - val_accuracy: 0.8413\n",
            "Epoch 6/20\n",
            "54/54 [==============================] - 1s 10ms/step - loss: 0.4145 - accuracy: 0.8406 - val_loss: 0.4113 - val_accuracy: 0.8413\n",
            "Epoch 7/20\n",
            "54/54 [==============================] - 1s 10ms/step - loss: 0.4103 - accuracy: 0.8406 - val_loss: 0.4070 - val_accuracy: 0.8413\n",
            "Epoch 8/20\n",
            "54/54 [==============================] - 1s 10ms/step - loss: 0.4060 - accuracy: 0.8406 - val_loss: 0.4027 - val_accuracy: 0.8413\n",
            "Epoch 9/20\n",
            "54/54 [==============================] - 1s 10ms/step - loss: 0.4015 - accuracy: 0.8406 - val_loss: 0.3982 - val_accuracy: 0.8413\n",
            "Epoch 10/20\n",
            "54/54 [==============================] - 1s 10ms/step - loss: 0.3970 - accuracy: 0.8406 - val_loss: 0.3936 - val_accuracy: 0.8413\n",
            "Epoch 11/20\n",
            "54/54 [==============================] - 1s 10ms/step - loss: 0.3923 - accuracy: 0.8406 - val_loss: 0.3888 - val_accuracy: 0.8413\n",
            "Epoch 12/20\n",
            "54/54 [==============================] - 1s 10ms/step - loss: 0.3875 - accuracy: 0.8406 - val_loss: 0.3839 - val_accuracy: 0.8413\n",
            "Epoch 13/20\n",
            "54/54 [==============================] - 1s 10ms/step - loss: 0.3826 - accuracy: 0.8406 - val_loss: 0.3789 - val_accuracy: 0.8413\n",
            "Epoch 14/20\n",
            "54/54 [==============================] - 1s 10ms/step - loss: 0.3775 - accuracy: 0.8406 - val_loss: 0.3738 - val_accuracy: 0.8413\n",
            "Epoch 15/20\n",
            "54/54 [==============================] - 1s 10ms/step - loss: 0.3724 - accuracy: 0.8406 - val_loss: 0.3685 - val_accuracy: 0.8413\n",
            "Epoch 16/20\n",
            "54/54 [==============================] - 1s 10ms/step - loss: 0.3671 - accuracy: 0.8406 - val_loss: 0.3631 - val_accuracy: 0.8413\n",
            "Epoch 17/20\n",
            "54/54 [==============================] - 1s 10ms/step - loss: 0.3616 - accuracy: 0.8406 - val_loss: 0.3576 - val_accuracy: 0.8413\n",
            "Epoch 18/20\n",
            "54/54 [==============================] - 1s 10ms/step - loss: 0.3561 - accuracy: 0.8406 - val_loss: 0.3521 - val_accuracy: 0.8413\n",
            "Epoch 19/20\n",
            "54/54 [==============================] - 1s 10ms/step - loss: 0.3506 - accuracy: 0.8406 - val_loss: 0.3464 - val_accuracy: 0.8413\n",
            "Epoch 20/20\n",
            "54/54 [==============================] - 1s 10ms/step - loss: 0.3449 - accuracy: 0.8406 - val_loss: 0.3407 - val_accuracy: 0.8413\n"
          ]
        }
      ],
      "source": [
        "# Setup some training parameters\n",
        "batch_size = 10000\n",
        "epochs = 20\n",
        "\n",
        "input_shape = Xtrain.shape\n",
        "\n",
        "# Build the model\n",
        "model1 = build_DNN(input_shape = input_shape, n_layers = 2, n_nodes=20)\n",
        "\n",
        "# Train the model, provide training data and validation data\n",
        "history1 = model1.fit(\n",
        "    x=Xtrain,\n",
        "    y=Ytrain,\n",
        "    batch_size=batch_size,\n",
        "    epochs=epochs,\n",
        "    validation_data=(Xval,Yval))"
      ]
    },
    {
      "cell_type": "code",
      "execution_count": 12,
      "metadata": {
        "colab": {
          "base_uri": "https://localhost:8080/"
        },
        "id": "Rit2Odd_Bssc",
        "outputId": "035ad0b1-91ac-4ad6-bf95-d6172fe518d8"
      },
      "outputs": [
        {
          "output_type": "stream",
          "name": "stdout",
          "text": [
            "3582/3582 [==============================] - 3s 937us/step - loss: 0.3411 - accuracy: 0.8414\n",
            "Test loss: 0.3411\n",
            "Test accuracy: 0.8414\n"
          ]
        }
      ],
      "source": [
        "# Evaluate the model on the test data\n",
        "score = model1.evaluate(x = Xtest, y = Ytest)\n",
        "print('Test loss: %.4f' % score[0])\n",
        "print('Test accuracy: %.4f' % score[1])"
      ]
    },
    {
      "cell_type": "code",
      "execution_count": 13,
      "metadata": {
        "id": "6OIR0UPIBssc",
        "colab": {
          "base_uri": "https://localhost:8080/",
          "height": 541
        },
        "outputId": "c0039c3a-d0cb-4014-f284-d027d39866c9"
      },
      "outputs": [
        {
          "output_type": "display_data",
          "data": {
            "text/plain": [
              "<Figure size 720x288 with 1 Axes>"
            ],
            "image/png": "[encoded data removed]"
          },
          "metadata": {
            "needs_background": "light"
          }
        },
        {
          "output_type": "display_data",
          "data": {
            "text/plain": [
              "<Figure size 720x288 with 1 Axes>"
            ],
            "image/png": "[encoded data removed]"
          },
          "metadata": {
            "needs_background": "light"
          }
        }
      ],
      "source": [
        "# Plot the history from the training run\n",
        "plot_results(history1)"
      ]
    },
    {
      "cell_type": "markdown",
      "metadata": {
        "id": "tPimHG5JBssd"
      },
      "source": [
        "# Part 11: More questions\n",
        "\n",
        "Question 5: What happens if you add several Dense layers without specifying the activation function?\n",
        "*   In keras as per documentation. If you don't specify activation function, no activation is applied (ie. \"linear\" activation: a(x) = x).\n",
        "*   So if we have several dense layers all the  layers will give the linear output to the next layer. These layers can be expressed by a single dense layer as the output is just the combination of input. \n",
        "\n",
        "Question 6: How are the weights in each dense layer initialized as default? How are the bias weights initialized?\n",
        "*   In keras dense layer `kernel_initializer` is used as an initializer for the kernel weights. The default value for kernel_initializer is `glorot_uniform`. It draws samples from a uniform distribution within the range of [-limit, limit]\n",
        "*   `bias_initializer` is used as an initializer for the bias vector.  The default value for `bias_initializer` is zero \"0\""
      ]
    },
    {
      "cell_type": "markdown",
      "metadata": {
        "id": "Au-twahoBssd"
      },
      "source": [
        "# Part 12: Balancing the classes\n",
        "\n",
        "This dataset is rather unbalanced, we need to define class weights so that the training pays more attention to the class with fewer samples. We use a function in scikit learn\n",
        "\n",
        "https://scikit-learn.org/stable/modules/generated/sklearn.utils.class_weight.compute_class_weight.html\n",
        "\n",
        "You need to call the function something like this\n",
        "\n",
        "class_weights = class_weight.compute_class_weight(class_weight = , classes = , y = )\n",
        "\n",
        "otherwise it will complain"
      ]
    },
    {
      "cell_type": "code",
      "execution_count": 14,
      "metadata": {
        "id": "j1raVIRjBssd",
        "colab": {
          "base_uri": "https://localhost:8080/"
        },
        "outputId": "4c3769e0-806a-4ef4-b68a-c231e1ce5610"
      },
      "outputs": [
        {
          "output_type": "stream",
          "name": "stdout",
          "text": [
            "[3.13728768 0.59479436]\n",
            "{0: 3.1372876783033035, 1: 0.5947943609097803}\n"
          ]
        }
      ],
      "source": [
        "from sklearn.utils import class_weight\n",
        "\n",
        "# Calculate class weights\n",
        "class_weights = class_weight.compute_class_weight(class_weight = 'balanced', classes = np.unique(Ytrain), y = Ytrain.flatten())\n",
        "\n",
        "# Print the class weights\n",
        "print(class_weights)\n",
        "\n",
        "# Keras wants the weights in this form, uncomment and change value1 and value2 to your weights, \n",
        "# or get them from the array that is returned from class_weight\n",
        "\n",
        "class_weights = {0: class_weights[0],\n",
        "                1: class_weights[1]}\n",
        "print(class_weights)"
      ]
    },
    {
      "cell_type": "markdown",
      "metadata": {
        "id": "EOmlUKPYBsse"
      },
      "source": [
        "### 2 layers, 20 nodes, class weights"
      ]
    },
    {
      "cell_type": "code",
      "execution_count": 15,
      "metadata": {
        "colab": {
          "base_uri": "https://localhost:8080/"
        },
        "id": "Bgwye8DCBsse",
        "scrolled": true,
        "outputId": "cae7a4c2-fd0b-48a3-c146-c7886bc28498"
      },
      "outputs": [
        {
          "output_type": "stream",
          "name": "stdout",
          "text": [
            "Epoch 1/20\n",
            "54/54 [==============================] - 1s 12ms/step - loss: 0.7253 - accuracy: 0.1433 - val_loss: 0.7146 - val_accuracy: 0.1082\n",
            "Epoch 2/20\n",
            "54/54 [==============================] - 1s 11ms/step - loss: 0.7152 - accuracy: 0.1070 - val_loss: 0.7132 - val_accuracy: 0.1054\n",
            "Epoch 3/20\n",
            "54/54 [==============================] - 1s 11ms/step - loss: 0.7066 - accuracy: 0.1122 - val_loss: 0.7071 - val_accuracy: 0.1218\n",
            "Epoch 4/20\n",
            "54/54 [==============================] - 1s 11ms/step - loss: 0.6988 - accuracy: 0.1433 - val_loss: 0.6991 - val_accuracy: 0.1998\n",
            "Epoch 5/20\n",
            "54/54 [==============================] - 1s 11ms/step - loss: 0.6915 - accuracy: 0.4020 - val_loss: 0.6915 - val_accuracy: 0.6050\n",
            "Epoch 6/20\n",
            "54/54 [==============================] - 1s 11ms/step - loss: 0.6843 - accuracy: 0.6895 - val_loss: 0.6833 - val_accuracy: 0.8211\n",
            "Epoch 7/20\n",
            "54/54 [==============================] - 1s 11ms/step - loss: 0.6773 - accuracy: 0.8617 - val_loss: 0.6762 - val_accuracy: 0.8768\n",
            "Epoch 8/20\n",
            "54/54 [==============================] - 1s 11ms/step - loss: 0.6700 - accuracy: 0.8765 - val_loss: 0.6677 - val_accuracy: 0.8780\n",
            "Epoch 9/20\n",
            "54/54 [==============================] - 1s 11ms/step - loss: 0.6625 - accuracy: 0.8776 - val_loss: 0.6599 - val_accuracy: 0.8800\n",
            "Epoch 10/20\n",
            "54/54 [==============================] - 1s 11ms/step - loss: 0.6546 - accuracy: 0.8792 - val_loss: 0.6520 - val_accuracy: 0.8819\n",
            "Epoch 11/20\n",
            "54/54 [==============================] - 1s 10ms/step - loss: 0.6460 - accuracy: 0.8806 - val_loss: 0.6428 - val_accuracy: 0.8826\n",
            "Epoch 12/20\n",
            "54/54 [==============================] - 1s 10ms/step - loss: 0.6368 - accuracy: 0.8809 - val_loss: 0.6328 - val_accuracy: 0.8828\n",
            "Epoch 13/20\n",
            "54/54 [==============================] - 1s 11ms/step - loss: 0.6268 - accuracy: 0.8812 - val_loss: 0.6219 - val_accuracy: 0.8832\n",
            "Epoch 14/20\n",
            "54/54 [==============================] - 1s 11ms/step - loss: 0.6158 - accuracy: 0.8815 - val_loss: 0.6103 - val_accuracy: 0.8837\n",
            "Epoch 15/20\n",
            "54/54 [==============================] - 1s 10ms/step - loss: 0.6039 - accuracy: 0.8830 - val_loss: 0.5985 - val_accuracy: 0.8856\n",
            "Epoch 16/20\n",
            "54/54 [==============================] - 1s 11ms/step - loss: 0.5910 - accuracy: 0.8840 - val_loss: 0.5850 - val_accuracy: 0.8863\n",
            "Epoch 17/20\n",
            "54/54 [==============================] - 1s 10ms/step - loss: 0.5771 - accuracy: 0.8845 - val_loss: 0.5712 - val_accuracy: 0.8860\n",
            "Epoch 18/20\n",
            "54/54 [==============================] - 1s 11ms/step - loss: 0.5622 - accuracy: 0.8841 - val_loss: 0.5560 - val_accuracy: 0.8859\n",
            "Epoch 19/20\n",
            "54/54 [==============================] - 1s 11ms/step - loss: 0.5464 - accuracy: 0.8841 - val_loss: 0.5405 - val_accuracy: 0.8854\n",
            "Epoch 20/20\n",
            "54/54 [==============================] - 1s 10ms/step - loss: 0.5299 - accuracy: 0.8834 - val_loss: 0.5241 - val_accuracy: 0.8850\n"
          ]
        }
      ],
      "source": [
        "# Setup some training parameters\n",
        "batch_size = 10000\n",
        "epochs = 20\n",
        "input_shape = Xtrain.shape\n",
        "\n",
        "# Build and train model\n",
        "model2 = build_DNN(input_shape = input_shape, n_layers = 2, n_nodes=20)\n",
        "\n",
        "\n",
        "history2 = model2.fit(\n",
        "    x=Xtrain,\n",
        "    y=Ytrain,\n",
        "    batch_size=batch_size,\n",
        "    epochs=epochs,\n",
        "    validation_data=(Xval,Yval),\n",
        "    class_weight = class_weights\n",
        "    )\n",
        "\n"
      ]
    },
    {
      "cell_type": "code",
      "execution_count": 16,
      "metadata": {
        "colab": {
          "base_uri": "https://localhost:8080/"
        },
        "id": "eB6-TCMoBsse",
        "outputId": "ce2a6910-bbb3-4a85-c447-a9bcb29f5e54"
      },
      "outputs": [
        {
          "output_type": "stream",
          "name": "stdout",
          "text": [
            "3582/3582 [==============================] - 4s 1ms/step - loss: 0.5251 - accuracy: 0.8829\n",
            "Test loss: 0.5251\n",
            "Test accuracy: 0.8829\n"
          ]
        }
      ],
      "source": [
        "# Evaluate model on test data\n",
        "score = model2.evaluate(x = Xtest, y = Ytest)\n",
        "print('Test loss: %.4f' % score[0])\n",
        "print('Test accuracy: %.4f' % score[1])"
      ]
    },
    {
      "cell_type": "code",
      "execution_count": 17,
      "metadata": {
        "colab": {
          "base_uri": "https://localhost:8080/",
          "height": 541
        },
        "id": "MZ7J07zpBssf",
        "outputId": "2653822b-d1cb-4e4a-9db5-fdf860409719"
      },
      "outputs": [
        {
          "output_type": "display_data",
          "data": {
            "text/plain": [
              "<Figure size 720x288 with 1 Axes>"
            ],
            "image/png": "[encoded data removed]"
          },
          "metadata": {
            "needs_background": "light"
          }
        },
        {
          "output_type": "display_data",
          "data": {
            "text/plain": [
              "<Figure size 720x288 with 1 Axes>"
            ],
            "image/png": "[encoded data removed]"
          },
          "metadata": {
            "needs_background": "light"
          }
        }
      ],
      "source": [
        "plot_results(history2)"
      ]
    },
    {
      "cell_type": "markdown",
      "metadata": {
        "id": "wiBxRKlrBssf"
      },
      "source": [
        "# Part 13: More questions\n",
        "\n",
        "Skip questions 8 and 9 if you run on the CPU (recommended)\n",
        "\n",
        "Question 7: Why do we have to use a batch size? Why can't we simply use all data at once? This is more relevant for even larger datasets.\n",
        "*   Using the batch size will requires less memory expecially if we have a larger dataset we might not able to fit the whole data in memory.\n",
        "*   Secondly, Using batches our weight updation is more frequent(as we update weight after every iteration). This will train our model faster\n",
        "\n",
        "\n",
        "Question 8: How busy is the GPU for a batch size of 100? How much GPU memory is used? Hint: run 'nvidia-smi' on the computer a few times during training.\n",
        "*   Skipped\n",
        "\n",
        "Question 9: What is the processing time for one training epoch when the batch size is 100? What is the processing time for one epoch when the batch size is 1,000? What is the processing time for one epoch when the batch size is 10,000? Explain the results. \n",
        "*   Skipped\n",
        "\n",
        "Question 10: How many times are the weights in the DNN updated in each training epoch if the batch size is 100? How many times are the weights in the DNN updated in each training epoch if the batch size is 1,000? How many times are the weights in the DNN updated in each training epoch if the batch size is 10,000?\n",
        "\n",
        "* With batch size = 100 and training data size = 764136. The model weights will be updated 7641 times.\n",
        "* With batch size = 1000 and training data size = 764136. The model weights will be updated 764 times.\n",
        "* With batch size = 10000 and training data size = 764136. The model weights will be updated 76 times.\n",
        "\n",
        "Question 11: What limits how large the batch size can be?\n",
        "* The available resources of the computer. Such as ram and gpu etc\n",
        "\n",
        "Question 12: Generally speaking, how is the learning rate related to the batch size? If the batch size is decreased, how should the learning rate be changed?\n",
        "* As the batch size is increased we used larger learning rate and for small batch size low learning rate. With smaller batch size the there is more uncertainity in gradient.\n",
        "\n",
        "Lets use a batch size of 10,000 from now on, and a learning rate of 0.1."
      ]
    },
    {
      "cell_type": "markdown",
      "metadata": {
        "id": "W3FRWGKWBssg"
      },
      "source": [
        "# Part 14: Increasing the complexity\n",
        "\n",
        "Lets try some different configurations of number of layers and number of nodes per layer.\n",
        "\n",
        "Question 13: How many trainable parameters does the network with 4 dense layers with 50 nodes each have, compared to the initial network with 2 layers and 20 nodes per layer? Hint: use model.summary()\n",
        "\n",
        "* The number of trainable parameters with 4 dense layers with 50 nodes each have, 12351\n",
        "* The number of trainable parameters with 2 dense layers with 20 nodes each have, 2301"
      ]
    },
    {
      "cell_type": "code",
      "execution_count": 18,
      "metadata": {
        "colab": {
          "base_uri": "https://localhost:8080/"
        },
        "id": "s1jT6ca6m2nA",
        "outputId": "89dce2a2-f0fe-4a3d-f434-245ef62186f7"
      },
      "outputs": [
        {
          "output_type": "stream",
          "name": "stdout",
          "text": [
            "Model: \"sequential_2\"\n",
            "_________________________________________________________________\n",
            " Layer (type)                Output Shape              Param #   \n",
            "=================================================================\n",
            " dense_6 (Dense)             (None, 20)                1860      \n",
            "                                                                 \n",
            " dense_7 (Dense)             (None, 20)                420       \n",
            "                                                                 \n",
            " dense_8 (Dense)             (None, 1)                 21        \n",
            "                                                                 \n",
            "=================================================================\n",
            "Total params: 2,301\n",
            "Trainable params: 2,301\n",
            "Non-trainable params: 0\n",
            "_________________________________________________________________\n",
            "Model: \"sequential_3\"\n",
            "_________________________________________________________________\n",
            " Layer (type)                Output Shape              Param #   \n",
            "=================================================================\n",
            " dense_9 (Dense)             (None, 50)                4650      \n",
            "                                                                 \n",
            " dense_10 (Dense)            (None, 50)                2550      \n",
            "                                                                 \n",
            " dense_11 (Dense)            (None, 50)                2550      \n",
            "                                                                 \n",
            " dense_12 (Dense)            (None, 50)                2550      \n",
            "                                                                 \n",
            " dense_13 (Dense)            (None, 1)                 51        \n",
            "                                                                 \n",
            "=================================================================\n",
            "Total params: 12,351\n",
            "Trainable params: 12,351\n",
            "Non-trainable params: 0\n",
            "_________________________________________________________________\n"
          ]
        }
      ],
      "source": [
        "modelTemp =  build_DNN(input_shape = input_shape, n_layers = 2, n_nodes=20) \n",
        "modelTemp.summary()\n",
        "\n",
        "modelTemp =  build_DNN(input_shape = input_shape, n_layers = 4, n_nodes=50) \n",
        "modelTemp.summary()"
      ]
    },
    {
      "cell_type": "markdown",
      "metadata": {
        "id": "nCO_WWNiBssg"
      },
      "source": [
        "### 4 layers, 20 nodes, class weights"
      ]
    },
    {
      "cell_type": "code",
      "execution_count": 19,
      "metadata": {
        "colab": {
          "base_uri": "https://localhost:8080/"
        },
        "id": "gB4bXz6aBssg",
        "scrolled": true,
        "outputId": "c2a483f5-0c23-461d-e77e-270d34cb50f0"
      },
      "outputs": [
        {
          "output_type": "stream",
          "name": "stdout",
          "text": [
            "Epoch 1/20\n",
            "54/54 [==============================] - 1s 16ms/step - loss: 0.7329 - accuracy: 0.1594 - val_loss: 0.8124 - val_accuracy: 0.1587\n",
            "Epoch 2/20\n",
            "54/54 [==============================] - 1s 14ms/step - loss: 0.6981 - accuracy: 0.1594 - val_loss: 0.7333 - val_accuracy: 0.1587\n",
            "Epoch 3/20\n",
            "54/54 [==============================] - 1s 14ms/step - loss: 0.6933 - accuracy: 0.1594 - val_loss: 0.7070 - val_accuracy: 0.1587\n",
            "Epoch 4/20\n",
            "54/54 [==============================] - 1s 13ms/step - loss: 0.6926 - accuracy: 0.1594 - val_loss: 0.6970 - val_accuracy: 0.1588\n",
            "Epoch 5/20\n",
            "54/54 [==============================] - 1s 13ms/step - loss: 0.6925 - accuracy: 0.1626 - val_loss: 0.6945 - val_accuracy: 0.1587\n",
            "Epoch 6/20\n",
            "54/54 [==============================] - 1s 13ms/step - loss: 0.6924 - accuracy: 0.2587 - val_loss: 0.6926 - val_accuracy: 0.8016\n",
            "Epoch 7/20\n",
            "54/54 [==============================] - 1s 13ms/step - loss: 0.6923 - accuracy: 0.8406 - val_loss: 0.6926 - val_accuracy: 0.7991\n",
            "Epoch 8/20\n",
            "54/54 [==============================] - 1s 13ms/step - loss: 0.6923 - accuracy: 0.7928 - val_loss: 0.6924 - val_accuracy: 0.8406\n",
            "Epoch 9/20\n",
            "54/54 [==============================] - 1s 13ms/step - loss: 0.6922 - accuracy: 0.8023 - val_loss: 0.6919 - val_accuracy: 0.8647\n",
            "Epoch 10/20\n",
            "54/54 [==============================] - 1s 13ms/step - loss: 0.6922 - accuracy: 0.8618 - val_loss: 0.6924 - val_accuracy: 0.8426\n",
            "Epoch 11/20\n",
            "54/54 [==============================] - 1s 14ms/step - loss: 0.6921 - accuracy: 0.8510 - val_loss: 0.6923 - val_accuracy: 0.8493\n",
            "Epoch 12/20\n",
            "54/54 [==============================] - 1s 13ms/step - loss: 0.6920 - accuracy: 0.8265 - val_loss: 0.6921 - val_accuracy: 0.8600\n",
            "Epoch 13/20\n",
            "54/54 [==============================] - 1s 13ms/step - loss: 0.6919 - accuracy: 0.8577 - val_loss: 0.6921 - val_accuracy: 0.8604\n",
            "Epoch 14/20\n",
            "54/54 [==============================] - 1s 13ms/step - loss: 0.6919 - accuracy: 0.8369 - val_loss: 0.6915 - val_accuracy: 0.8708\n",
            "Epoch 15/20\n",
            "54/54 [==============================] - 1s 13ms/step - loss: 0.6918 - accuracy: 0.8664 - val_loss: 0.6919 - val_accuracy: 0.8661\n",
            "Epoch 16/20\n",
            "54/54 [==============================] - 1s 14ms/step - loss: 0.6917 - accuracy: 0.8566 - val_loss: 0.6916 - val_accuracy: 0.8726\n",
            "Epoch 17/20\n",
            "54/54 [==============================] - 1s 14ms/step - loss: 0.6917 - accuracy: 0.8670 - val_loss: 0.6913 - val_accuracy: 0.8722\n",
            "Epoch 18/20\n",
            "54/54 [==============================] - 1s 13ms/step - loss: 0.6916 - accuracy: 0.8692 - val_loss: 0.6914 - val_accuracy: 0.8738\n",
            "Epoch 19/20\n",
            "54/54 [==============================] - 1s 13ms/step - loss: 0.6915 - accuracy: 0.8702 - val_loss: 0.6915 - val_accuracy: 0.8726\n",
            "Epoch 20/20\n",
            "54/54 [==============================] - 1s 13ms/step - loss: 0.6914 - accuracy: 0.8613 - val_loss: 0.6913 - val_accuracy: 0.8737\n"
          ]
        }
      ],
      "source": [
        "# Setup some training parameters\n",
        "batch_size = 10000\n",
        "epochs = 20\n",
        "input_shape = input_shape = Xtrain.shape\n",
        "\n",
        "# Build and train model\n",
        "model3 =  build_DNN(input_shape = input_shape, n_layers = 4, n_nodes=20) \n",
        "\n",
        "history3 = model3.fit(\n",
        "    x=Xtrain,\n",
        "    y=Ytrain,\n",
        "    batch_size=batch_size,\n",
        "    epochs=epochs,\n",
        "    validation_data=(Xval,Yval),\n",
        "    class_weight = class_weights\n",
        "    )\n",
        "\n",
        "\n"
      ]
    },
    {
      "cell_type": "code",
      "execution_count": 20,
      "metadata": {
        "colab": {
          "base_uri": "https://localhost:8080/"
        },
        "id": "K0U1VVyVBssg",
        "outputId": "53763a04-1ddd-4b54-f6e0-100d6bf47fc8"
      },
      "outputs": [
        {
          "output_type": "stream",
          "name": "stdout",
          "text": [
            "3582/3582 [==============================] - 4s 1ms/step - loss: 0.6913 - accuracy: 0.8719\n",
            "Test loss: 0.6913\n",
            "Test accuracy: 0.8719\n"
          ]
        }
      ],
      "source": [
        "# Evaluate model on test data\n",
        "score = model3.evaluate(x = Xtest, y = Ytest)\n",
        "print('Test loss: %.4f' % score[0])\n",
        "print('Test accuracy: %.4f' % score[1])\n",
        "\n"
      ]
    },
    {
      "cell_type": "code",
      "execution_count": 21,
      "metadata": {
        "colab": {
          "base_uri": "https://localhost:8080/",
          "height": 543
        },
        "id": "e_v8_rOfBssh",
        "outputId": "85047967-c8ff-49c7-ba7a-061ae8659889"
      },
      "outputs": [
        {
          "output_type": "display_data",
          "data": {
            "text/plain": [
              "<Figure size 720x288 with 1 Axes>"
            ],
            "image/png": "[encoded data removed]"
          },
          "metadata": {
            "needs_background": "light"
          }
        },
        {
          "output_type": "display_data",
          "data": {
            "text/plain": [
              "<Figure size 720x288 with 1 Axes>"
            ],
            "image/png": "[encoded data removed]"
          },
          "metadata": {
            "needs_background": "light"
          }
        }
      ],
      "source": [
        "plot_results(history3)"
      ]
    },
    {
      "cell_type": "markdown",
      "metadata": {
        "id": "iobdB3rwBssi"
      },
      "source": [
        "### 2 layers, 50 nodes, class weights"
      ]
    },
    {
      "cell_type": "code",
      "execution_count": 22,
      "metadata": {
        "colab": {
          "base_uri": "https://localhost:8080/"
        },
        "id": "Jq4vCSF6Bssi",
        "scrolled": true,
        "outputId": "14802037-821a-423b-8267-699407fd8ed3"
      },
      "outputs": [
        {
          "output_type": "stream",
          "name": "stdout",
          "text": [
            "Epoch 1/20\n",
            "54/54 [==============================] - 1s 18ms/step - loss: 0.7119 - accuracy: 0.1606 - val_loss: 0.7177 - val_accuracy: 0.1625\n",
            "Epoch 2/20\n",
            "54/54 [==============================] - 1s 17ms/step - loss: 0.6865 - accuracy: 0.4540 - val_loss: 0.6803 - val_accuracy: 0.8136\n",
            "Epoch 3/20\n",
            "54/54 [==============================] - 1s 17ms/step - loss: 0.6679 - accuracy: 0.8401 - val_loss: 0.6596 - val_accuracy: 0.8603\n",
            "Epoch 4/20\n",
            "54/54 [==============================] - 1s 16ms/step - loss: 0.6496 - accuracy: 0.8643 - val_loss: 0.6419 - val_accuracy: 0.8695\n",
            "Epoch 5/20\n",
            "54/54 [==============================] - 1s 18ms/step - loss: 0.6308 - accuracy: 0.8708 - val_loss: 0.6222 - val_accuracy: 0.8761\n",
            "Epoch 6/20\n",
            "54/54 [==============================] - 1s 16ms/step - loss: 0.6113 - accuracy: 0.8760 - val_loss: 0.6025 - val_accuracy: 0.8798\n",
            "Epoch 7/20\n",
            "54/54 [==============================] - 1s 16ms/step - loss: 0.5909 - accuracy: 0.8783 - val_loss: 0.5817 - val_accuracy: 0.8817\n",
            "Epoch 8/20\n",
            "54/54 [==============================] - 1s 15ms/step - loss: 0.5694 - accuracy: 0.8798 - val_loss: 0.5608 - val_accuracy: 0.8820\n",
            "Epoch 9/20\n",
            "54/54 [==============================] - 1s 16ms/step - loss: 0.5469 - accuracy: 0.8802 - val_loss: 0.5392 - val_accuracy: 0.8822\n",
            "Epoch 10/20\n",
            "54/54 [==============================] - 1s 16ms/step - loss: 0.5235 - accuracy: 0.8806 - val_loss: 0.5155 - val_accuracy: 0.8829\n",
            "Epoch 11/20\n",
            "54/54 [==============================] - 1s 16ms/step - loss: 0.4996 - accuracy: 0.8813 - val_loss: 0.4929 - val_accuracy: 0.8832\n",
            "Epoch 12/20\n",
            "54/54 [==============================] - 1s 16ms/step - loss: 0.4754 - accuracy: 0.8817 - val_loss: 0.4708 - val_accuracy: 0.8830\n",
            "Epoch 13/20\n",
            "54/54 [==============================] - 1s 16ms/step - loss: 0.4515 - accuracy: 0.8816 - val_loss: 0.4477 - val_accuracy: 0.8836\n",
            "Epoch 14/20\n",
            "54/54 [==============================] - 1s 23ms/step - loss: 0.4282 - accuracy: 0.8821 - val_loss: 0.4271 - val_accuracy: 0.8835\n",
            "Epoch 15/20\n",
            "54/54 [==============================] - 1s 17ms/step - loss: 0.4059 - accuracy: 0.8820 - val_loss: 0.4068 - val_accuracy: 0.8836\n",
            "Epoch 16/20\n",
            "54/54 [==============================] - 1s 17ms/step - loss: 0.3851 - accuracy: 0.8822 - val_loss: 0.3889 - val_accuracy: 0.8836\n",
            "Epoch 17/20\n",
            "54/54 [==============================] - 1s 16ms/step - loss: 0.3659 - accuracy: 0.8822 - val_loss: 0.3719 - val_accuracy: 0.8838\n",
            "Epoch 18/20\n",
            "54/54 [==============================] - 1s 16ms/step - loss: 0.3484 - accuracy: 0.8824 - val_loss: 0.3578 - val_accuracy: 0.8837\n",
            "Epoch 19/20\n",
            "54/54 [==============================] - 1s 16ms/step - loss: 0.3328 - accuracy: 0.8823 - val_loss: 0.3451 - val_accuracy: 0.8837\n",
            "Epoch 20/20\n",
            "54/54 [==============================] - 1s 16ms/step - loss: 0.3189 - accuracy: 0.8824 - val_loss: 0.3341 - val_accuracy: 0.8838\n"
          ]
        }
      ],
      "source": [
        "# Setup some training parameters\n",
        "batch_size = 10000\n",
        "epochs = 20\n",
        "\n",
        "input_shape = input_shape = Xtrain.shape\n",
        "\n",
        "# Build and train model\n",
        "model4 =  build_DNN(input_shape = input_shape, n_layers = 2, n_nodes=50) \n",
        "\n",
        "history4 = model4.fit(\n",
        "    x=Xtrain,\n",
        "    y=Ytrain,\n",
        "    batch_size=batch_size,\n",
        "    epochs=epochs,\n",
        "    validation_data=(Xval,Yval),\n",
        "    class_weight = class_weights\n",
        "    )\n",
        "\n"
      ]
    },
    {
      "cell_type": "code",
      "execution_count": 23,
      "metadata": {
        "id": "OXRaT0r2Bssi",
        "colab": {
          "base_uri": "https://localhost:8080/"
        },
        "outputId": "5376088f-dd10-4b57-8aa8-7f9db8767bbe"
      },
      "outputs": [
        {
          "output_type": "stream",
          "name": "stdout",
          "text": [
            "3582/3582 [==============================] - 4s 1ms/step - loss: 0.3370 - accuracy: 0.8817\n",
            "Test loss: 0.3370\n",
            "Test accuracy: 0.8817\n"
          ]
        }
      ],
      "source": [
        "# Evaluate model on test data\n",
        "score = model4.evaluate(x = Xtest, y = Ytest)\n",
        "print('Test loss: %.4f' % score[0])\n",
        "print('Test accuracy: %.4f' % score[1])"
      ]
    },
    {
      "cell_type": "code",
      "execution_count": 24,
      "metadata": {
        "id": "42JrQ6jjBssj",
        "colab": {
          "base_uri": "https://localhost:8080/",
          "height": 541
        },
        "outputId": "a591b522-0dbc-44bd-9550-00988dae9dda"
      },
      "outputs": [
        {
          "output_type": "display_data",
          "data": {
            "text/plain": [
              "<Figure size 720x288 with 1 Axes>"
            ],
            "image/png": "[encoded data removed]"
          },
          "metadata": {
            "needs_background": "light"
          }
        },
        {
          "output_type": "display_data",
          "data": {
            "text/plain": [
              "<Figure size 720x288 with 1 Axes>"
            ],
            "image/png": "[encoded data removed]"
          },
          "metadata": {
            "needs_background": "light"
          }
        }
      ],
      "source": [
        "plot_results(history4)"
      ]
    },
    {
      "cell_type": "markdown",
      "metadata": {
        "id": "7uud39XnBssj"
      },
      "source": [
        "### 4 layers, 50 nodes, class weights"
      ]
    },
    {
      "cell_type": "code",
      "execution_count": 25,
      "metadata": {
        "id": "bfaTRlQwBssj",
        "scrolled": true,
        "colab": {
          "base_uri": "https://localhost:8080/"
        },
        "outputId": "1f38055b-5669-4cd5-fffe-de554ed6ab2d"
      },
      "outputs": [
        {
          "output_type": "stream",
          "name": "stdout",
          "text": [
            "Epoch 1/20\n",
            "54/54 [==============================] - 2s 28ms/step - loss: 0.7216 - accuracy: 0.1594 - val_loss: 0.7355 - val_accuracy: 0.1587\n",
            "Epoch 2/20\n",
            "54/54 [==============================] - 1s 26ms/step - loss: 0.6931 - accuracy: 0.1594 - val_loss: 0.6970 - val_accuracy: 0.1588\n",
            "Epoch 3/20\n",
            "54/54 [==============================] - 1s 25ms/step - loss: 0.6926 - accuracy: 0.2254 - val_loss: 0.6919 - val_accuracy: 0.8570\n",
            "Epoch 4/20\n",
            "54/54 [==============================] - 1s 25ms/step - loss: 0.6925 - accuracy: 0.5961 - val_loss: 0.6913 - val_accuracy: 0.8460\n",
            "Epoch 5/20\n",
            "54/54 [==============================] - 1s 25ms/step - loss: 0.6924 - accuracy: 0.7411 - val_loss: 0.6920 - val_accuracy: 0.8717\n",
            "Epoch 6/20\n",
            "54/54 [==============================] - 1s 25ms/step - loss: 0.6923 - accuracy: 0.8546 - val_loss: 0.6924 - val_accuracy: 0.8877\n",
            "Epoch 7/20\n",
            "54/54 [==============================] - 1s 25ms/step - loss: 0.6922 - accuracy: 0.5551 - val_loss: 0.6916 - val_accuracy: 0.8715\n",
            "Epoch 8/20\n",
            "54/54 [==============================] - 1s 25ms/step - loss: 0.6921 - accuracy: 0.7653 - val_loss: 0.6919 - val_accuracy: 0.8873\n",
            "Epoch 9/20\n",
            "54/54 [==============================] - 1s 27ms/step - loss: 0.6921 - accuracy: 0.7860 - val_loss: 0.6918 - val_accuracy: 0.8882\n",
            "Epoch 10/20\n",
            "54/54 [==============================] - 1s 25ms/step - loss: 0.6920 - accuracy: 0.6698 - val_loss: 0.6912 - val_accuracy: 0.8780\n",
            "Epoch 11/20\n",
            "54/54 [==============================] - 1s 25ms/step - loss: 0.6919 - accuracy: 0.7247 - val_loss: 0.6900 - val_accuracy: 0.8429\n",
            "Epoch 12/20\n",
            "54/54 [==============================] - 1s 26ms/step - loss: 0.6918 - accuracy: 0.8706 - val_loss: 0.6917 - val_accuracy: 0.8918\n",
            "Epoch 13/20\n",
            "54/54 [==============================] - 1s 25ms/step - loss: 0.6917 - accuracy: 0.8770 - val_loss: 0.6923 - val_accuracy: 0.8829\n",
            "Epoch 14/20\n",
            "54/54 [==============================] - 1s 26ms/step - loss: 0.6916 - accuracy: 0.8084 - val_loss: 0.6924 - val_accuracy: 0.8790\n",
            "Epoch 15/20\n",
            "54/54 [==============================] - 1s 25ms/step - loss: 0.6915 - accuracy: 0.7505 - val_loss: 0.6910 - val_accuracy: 0.8952\n",
            "Epoch 16/20\n",
            "54/54 [==============================] - 1s 24ms/step - loss: 0.6914 - accuracy: 0.8867 - val_loss: 0.6905 - val_accuracy: 0.8912\n",
            "Epoch 17/20\n",
            "54/54 [==============================] - 1s 25ms/step - loss: 0.6913 - accuracy: 0.8644 - val_loss: 0.6920 - val_accuracy: 0.8836\n",
            "Epoch 18/20\n",
            "54/54 [==============================] - 1s 25ms/step - loss: 0.6912 - accuracy: 0.8519 - val_loss: 0.6909 - val_accuracy: 0.8957\n",
            "Epoch 19/20\n",
            "54/54 [==============================] - 1s 24ms/step - loss: 0.6911 - accuracy: 0.8280 - val_loss: 0.6919 - val_accuracy: 0.8854\n",
            "Epoch 20/20\n",
            "54/54 [==============================] - 1s 25ms/step - loss: 0.6910 - accuracy: 0.8779 - val_loss: 0.6905 - val_accuracy: 0.8968\n"
          ]
        }
      ],
      "source": [
        "# Setup some training parameters\n",
        "batch_size = 10000\n",
        "epochs = 20\n",
        "input_shape = input_shape = Xtrain.shape\n",
        "\n",
        "# Build and train model\n",
        "model5 =  build_DNN(input_shape = input_shape, n_layers = 4, n_nodes=50) \n",
        "\n",
        "history5 = model5.fit(\n",
        "    x=Xtrain,\n",
        "    y=Ytrain,\n",
        "    batch_size=batch_size,\n",
        "    epochs=epochs,\n",
        "    validation_data=(Xval,Yval),\n",
        "    class_weight = class_weights\n",
        "    )\n"
      ]
    },
    {
      "cell_type": "code",
      "execution_count": 26,
      "metadata": {
        "id": "-ol_3_BnBssj",
        "colab": {
          "base_uri": "https://localhost:8080/"
        },
        "outputId": "f61b15bd-87f4-4e04-abf4-17726ccc9ca3"
      },
      "outputs": [
        {
          "output_type": "stream",
          "name": "stdout",
          "text": [
            "3582/3582 [==============================] - 5s 1ms/step - loss: 0.6905 - accuracy: 0.8950\n",
            "Test loss: 0.6905\n",
            "Test accuracy: 0.8950\n"
          ]
        }
      ],
      "source": [
        "# Evaluate model on test data\n",
        "score = model5.evaluate(x = Xtest, y = Ytest)\n",
        "print('Test loss: %.4f' % score[0])\n",
        "print('Test accuracy: %.4f' % score[1])"
      ]
    },
    {
      "cell_type": "code",
      "execution_count": 27,
      "metadata": {
        "id": "TDjEvmNRBssj",
        "colab": {
          "base_uri": "https://localhost:8080/",
          "height": 541
        },
        "outputId": "f97bbf18-a206-41dc-eb7f-8a4989de9eec"
      },
      "outputs": [
        {
          "output_type": "display_data",
          "data": {
            "text/plain": [
              "<Figure size 720x288 with 1 Axes>"
            ],
            "image/png": "[encoded data removed]"
          },
          "metadata": {
            "needs_background": "light"
          }
        },
        {
          "output_type": "display_data",
          "data": {
            "text/plain": [
              "<Figure size 720x288 with 1 Axes>"
            ],
            "image/png": "[encoded data removed]"
          },
          "metadata": {
            "needs_background": "light"
          }
        }
      ],
      "source": [
        "plot_results(history5)"
      ]
    },
    {
      "cell_type": "markdown",
      "metadata": {
        "id": "ppn6IobeBssk"
      },
      "source": [
        "# Part 15: Batch normalization\n",
        "\n",
        "Now add batch normalization after each dense layer in `build_DNN`. Remember to import BatchNormalization from keras.layers. \n",
        "\n",
        "See https://keras.io/layers/normalization/ for information about how to call the function.\n",
        "\n",
        "Question 14: Why is batch normalization important when training deep networks?\n",
        "* Batch normalization normalize the contribution of each layer which can reduce training epochs required to train. \n"
      ]
    },
    {
      "cell_type": "markdown",
      "metadata": {
        "id": "eUP4TC5MBssk"
      },
      "source": [
        "### 2 layers, 20 nodes, class weights, batch normalization"
      ]
    },
    {
      "cell_type": "code",
      "execution_count": 28,
      "metadata": {
        "id": "cxQoLuSSBssl",
        "scrolled": true,
        "colab": {
          "base_uri": "https://localhost:8080/"
        },
        "outputId": "d0b8ebba-c88c-4bad-9bc9-5a62e3d107d1"
      },
      "outputs": [
        {
          "output_type": "stream",
          "name": "stdout",
          "text": [
            "Epoch 1/20\n",
            "54/54 [==============================] - 2s 18ms/step - loss: 0.4146 - accuracy: 0.8375 - val_loss: 0.9281 - val_accuracy: 0.1587\n",
            "Epoch 2/20\n",
            "54/54 [==============================] - 1s 15ms/step - loss: 0.3333 - accuracy: 0.8648 - val_loss: 0.7641 - val_accuracy: 0.1588\n",
            "Epoch 3/20\n",
            "54/54 [==============================] - 1s 15ms/step - loss: 0.3035 - accuracy: 0.8856 - val_loss: 0.6341 - val_accuracy: 0.8815\n",
            "Epoch 4/20\n",
            "54/54 [==============================] - 1s 15ms/step - loss: 0.2831 - accuracy: 0.8939 - val_loss: 0.5271 - val_accuracy: 0.8927\n",
            "Epoch 5/20\n",
            "54/54 [==============================] - 1s 15ms/step - loss: 0.2678 - accuracy: 0.8969 - val_loss: 0.4413 - val_accuracy: 0.8960\n",
            "Epoch 6/20\n",
            "54/54 [==============================] - 1s 15ms/step - loss: 0.2558 - accuracy: 0.8990 - val_loss: 0.3773 - val_accuracy: 0.8991\n",
            "Epoch 7/20\n",
            "54/54 [==============================] - 1s 15ms/step - loss: 0.2462 - accuracy: 0.9001 - val_loss: 0.3367 - val_accuracy: 0.9006\n",
            "Epoch 8/20\n",
            "54/54 [==============================] - 1s 15ms/step - loss: 0.2382 - accuracy: 0.9009 - val_loss: 0.3137 - val_accuracy: 0.9017\n",
            "Epoch 9/20\n",
            "54/54 [==============================] - 1s 15ms/step - loss: 0.2316 - accuracy: 0.9015 - val_loss: 0.3017 - val_accuracy: 0.9025\n",
            "Epoch 10/20\n",
            "54/54 [==============================] - 1s 15ms/step - loss: 0.2259 - accuracy: 0.9019 - val_loss: 0.2950 - val_accuracy: 0.9031\n",
            "Epoch 11/20\n",
            "54/54 [==============================] - 1s 15ms/step - loss: 0.2211 - accuracy: 0.9024 - val_loss: 0.2907 - val_accuracy: 0.9037\n",
            "Epoch 12/20\n",
            "54/54 [==============================] - 1s 15ms/step - loss: 0.2169 - accuracy: 0.9029 - val_loss: 0.2858 - val_accuracy: 0.9044\n",
            "Epoch 13/20\n",
            "54/54 [==============================] - 1s 15ms/step - loss: 0.2134 - accuracy: 0.9035 - val_loss: 0.2816 - val_accuracy: 0.9050\n",
            "Epoch 14/20\n",
            "54/54 [==============================] - 1s 15ms/step - loss: 0.2101 - accuracy: 0.9041 - val_loss: 0.2780 - val_accuracy: 0.9057\n",
            "Epoch 15/20\n",
            "54/54 [==============================] - 1s 16ms/step - loss: 0.2073 - accuracy: 0.9048 - val_loss: 0.2739 - val_accuracy: 0.9065\n",
            "Epoch 16/20\n",
            "54/54 [==============================] - 1s 15ms/step - loss: 0.2047 - accuracy: 0.9056 - val_loss: 0.2689 - val_accuracy: 0.9076\n",
            "Epoch 17/20\n",
            "54/54 [==============================] - 1s 15ms/step - loss: 0.2024 - accuracy: 0.9065 - val_loss: 0.2652 - val_accuracy: 0.9085\n",
            "Epoch 18/20\n",
            "54/54 [==============================] - 1s 15ms/step - loss: 0.2003 - accuracy: 0.9073 - val_loss: 0.2619 - val_accuracy: 0.9092\n",
            "Epoch 19/20\n",
            "54/54 [==============================] - 1s 15ms/step - loss: 0.1985 - accuracy: 0.9080 - val_loss: 0.2593 - val_accuracy: 0.9099\n",
            "Epoch 20/20\n",
            "54/54 [==============================] - 1s 16ms/step - loss: 0.1968 - accuracy: 0.9086 - val_loss: 0.2567 - val_accuracy: 0.9103\n"
          ]
        }
      ],
      "source": [
        "# Setup some training parameters\n",
        "batch_size = 10000\n",
        "epochs = 20\n",
        "input_shape = input_shape = Xtrain.shape\n",
        "\n",
        "# Build and train model\n",
        "model6 =  build_DNN(input_shape = input_shape, n_layers = 2, n_nodes=20, use_bn = True) \n",
        "\n",
        "history6 = model6.fit(\n",
        "    x=Xtrain,\n",
        "    y=Ytrain,\n",
        "    batch_size=batch_size,\n",
        "    epochs=epochs,\n",
        "    validation_data=(Xval,Yval),\n",
        "    class_weight = class_weights\n",
        "    )"
      ]
    },
    {
      "cell_type": "code",
      "execution_count": 29,
      "metadata": {
        "id": "kuJVjYf0Bssl",
        "colab": {
          "base_uri": "https://localhost:8080/"
        },
        "outputId": "921e107e-7c10-4e11-895a-6fe881a96916"
      },
      "outputs": [
        {
          "output_type": "stream",
          "name": "stdout",
          "text": [
            "3582/3582 [==============================] - 4s 1ms/step - loss: 0.2589 - accuracy: 0.9091\n",
            "Test loss: 0.2589\n",
            "Test accuracy: 0.9091\n"
          ]
        }
      ],
      "source": [
        "# Evaluate model on test data\n",
        "score = model6.evaluate(x = Xtest, y = Ytest)\n",
        "print('Test loss: %.4f' % score[0])\n",
        "print('Test accuracy: %.4f' % score[1])"
      ]
    },
    {
      "cell_type": "code",
      "execution_count": 30,
      "metadata": {
        "id": "lxzmJR1tBssl",
        "colab": {
          "base_uri": "https://localhost:8080/",
          "height": 541
        },
        "outputId": "42e7b222-5e21-481a-a9df-57958fb31f70"
      },
      "outputs": [
        {
          "output_type": "display_data",
          "data": {
            "text/plain": [
              "<Figure size 720x288 with 1 Axes>"
            ],
            "image/png": "[encoded data removed]"
          },
          "metadata": {
            "needs_background": "light"
          }
        },
        {
          "output_type": "display_data",
          "data": {
            "text/plain": [
              "<Figure size 720x288 with 1 Axes>"
            ],
            "image/png": "[encoded data removed]"
          },
          "metadata": {
            "needs_background": "light"
          }
        }
      ],
      "source": [
        "plot_results(history6)"
      ]
    },
    {
      "cell_type": "markdown",
      "metadata": {
        "id": "2T1_jKpzBssm"
      },
      "source": [
        "# Part 16: Activation function\n",
        "\n",
        "Try changing the activation function in each layer from sigmoid to ReLU, write down the test accuracy.\n",
        "\n",
        "Note: the last layer should still have a sigmoid activation function.\n",
        "\n",
        "https://keras.io/api/layers/activations/"
      ]
    },
    {
      "cell_type": "markdown",
      "metadata": {
        "id": "dbwQnyLYBssm"
      },
      "source": [
        "### 2 layers, 20 nodes, class weights, ReLU, no batch normalization"
      ]
    },
    {
      "cell_type": "code",
      "execution_count": 31,
      "metadata": {
        "id": "9CpGLFXnBssm",
        "scrolled": true,
        "colab": {
          "base_uri": "https://localhost:8080/"
        },
        "outputId": "5e8e856e-74fd-4bd9-a878-ae5f9b76b7c7"
      },
      "outputs": [
        {
          "output_type": "stream",
          "name": "stdout",
          "text": [
            "Epoch 1/20\n",
            "54/54 [==============================] - 1s 13ms/step - loss: 0.6200 - accuracy: 0.8029 - val_loss: 0.5288 - val_accuracy: 0.8834\n",
            "Epoch 2/20\n",
            "54/54 [==============================] - 1s 10ms/step - loss: 0.4479 - accuracy: 0.8812 - val_loss: 0.4303 - val_accuracy: 0.8816\n",
            "Epoch 3/20\n",
            "54/54 [==============================] - 1s 11ms/step - loss: 0.3540 - accuracy: 0.8807 - val_loss: 0.3658 - val_accuracy: 0.8819\n",
            "Epoch 4/20\n",
            "54/54 [==============================] - 1s 11ms/step - loss: 0.2987 - accuracy: 0.8807 - val_loss: 0.3262 - val_accuracy: 0.8821\n",
            "Epoch 5/20\n",
            "54/54 [==============================] - 1s 11ms/step - loss: 0.2664 - accuracy: 0.8802 - val_loss: 0.3018 - val_accuracy: 0.8816\n",
            "Epoch 6/20\n",
            "54/54 [==============================] - 1s 11ms/step - loss: 0.2466 - accuracy: 0.8798 - val_loss: 0.2855 - val_accuracy: 0.8815\n",
            "Epoch 7/20\n",
            "54/54 [==============================] - 1s 11ms/step - loss: 0.2337 - accuracy: 0.8801 - val_loss: 0.2751 - val_accuracy: 0.8820\n",
            "Epoch 8/20\n",
            "54/54 [==============================] - 1s 11ms/step - loss: 0.2249 - accuracy: 0.8809 - val_loss: 0.2682 - val_accuracy: 0.8829\n",
            "Epoch 9/20\n",
            "54/54 [==============================] - 1s 11ms/step - loss: 0.2186 - accuracy: 0.8823 - val_loss: 0.2623 - val_accuracy: 0.8847\n",
            "Epoch 10/20\n",
            "54/54 [==============================] - 1s 11ms/step - loss: 0.2138 - accuracy: 0.8844 - val_loss: 0.2589 - val_accuracy: 0.8865\n",
            "Epoch 11/20\n",
            "54/54 [==============================] - 1s 10ms/step - loss: 0.2099 - accuracy: 0.8859 - val_loss: 0.2556 - val_accuracy: 0.8878\n",
            "Epoch 12/20\n",
            "54/54 [==============================] - 1s 11ms/step - loss: 0.2068 - accuracy: 0.8870 - val_loss: 0.2523 - val_accuracy: 0.8889\n",
            "Epoch 13/20\n",
            "54/54 [==============================] - 1s 11ms/step - loss: 0.2041 - accuracy: 0.8881 - val_loss: 0.2503 - val_accuracy: 0.8898\n",
            "Epoch 14/20\n",
            "54/54 [==============================] - 1s 11ms/step - loss: 0.2018 - accuracy: 0.8891 - val_loss: 0.2479 - val_accuracy: 0.8908\n",
            "Epoch 15/20\n",
            "54/54 [==============================] - 1s 11ms/step - loss: 0.1999 - accuracy: 0.8899 - val_loss: 0.2461 - val_accuracy: 0.8915\n",
            "Epoch 16/20\n",
            "54/54 [==============================] - 1s 11ms/step - loss: 0.1982 - accuracy: 0.8907 - val_loss: 0.2449 - val_accuracy: 0.8923\n",
            "Epoch 17/20\n",
            "54/54 [==============================] - 1s 11ms/step - loss: 0.1966 - accuracy: 0.8914 - val_loss: 0.2441 - val_accuracy: 0.8931\n",
            "Epoch 18/20\n",
            "54/54 [==============================] - 1s 11ms/step - loss: 0.1953 - accuracy: 0.8922 - val_loss: 0.2424 - val_accuracy: 0.8938\n",
            "Epoch 19/20\n",
            "54/54 [==============================] - 1s 11ms/step - loss: 0.1941 - accuracy: 0.8931 - val_loss: 0.2415 - val_accuracy: 0.8945\n",
            "Epoch 20/20\n",
            "54/54 [==============================] - 1s 11ms/step - loss: 0.1930 - accuracy: 0.8938 - val_loss: 0.2401 - val_accuracy: 0.8953\n"
          ]
        }
      ],
      "source": [
        "# Setup some training parameters\n",
        "batch_size = 10000\n",
        "epochs = 20\n",
        "input_shape = input_shape = Xtrain.shape\n",
        "\n",
        "# Build and train model\n",
        "model7 =  build_DNN(input_shape = input_shape, n_layers = 2, n_nodes=20, act_fun ='relu')\n",
        "\n",
        "history7 = model7.fit(\n",
        "    x=Xtrain,\n",
        "    y=Ytrain,\n",
        "    batch_size=batch_size,\n",
        "    epochs=epochs,\n",
        "    validation_data=(Xval,Yval),\n",
        "    class_weight = class_weights\n",
        "    )"
      ]
    },
    {
      "cell_type": "code",
      "execution_count": 32,
      "metadata": {
        "id": "slYSklaUBssn",
        "colab": {
          "base_uri": "https://localhost:8080/"
        },
        "outputId": "9d00fb19-a055-4af3-8479-a0e5b95776e1"
      },
      "outputs": [
        {
          "output_type": "stream",
          "name": "stdout",
          "text": [
            "3582/3582 [==============================] - 4s 991us/step - loss: 0.2424 - accuracy: 0.8938\n",
            "Test loss: 0.2424\n",
            "Test accuracy: 0.8938\n"
          ]
        }
      ],
      "source": [
        "# Evaluate model on test data\n",
        "score = model7.evaluate(x = Xtest, y = Ytest)\n",
        "print('Test loss: %.4f' % score[0])\n",
        "print('Test accuracy: %.4f' % score[1])"
      ]
    },
    {
      "cell_type": "code",
      "execution_count": 33,
      "metadata": {
        "id": "WDdsNVwWBssn",
        "colab": {
          "base_uri": "https://localhost:8080/",
          "height": 541
        },
        "outputId": "8306211b-9c8d-4e5b-a236-eb00161ed5a8"
      },
      "outputs": [
        {
          "output_type": "display_data",
          "data": {
            "text/plain": [
              "<Figure size 720x288 with 1 Axes>"
            ],
            "image/png": "[encoded data removed]"
          },
          "metadata": {
            "needs_background": "light"
          }
        },
        {
          "output_type": "display_data",
          "data": {
            "text/plain": [
              "<Figure size 720x288 with 1 Axes>"
            ],
            "image/png": "[encoded data removed]"
          },
          "metadata": {
            "needs_background": "light"
          }
        }
      ],
      "source": [
        "plot_results(history7)"
      ]
    },
    {
      "cell_type": "markdown",
      "metadata": {
        "id": "Kx35-bAwBsso"
      },
      "source": [
        "# Part 17: Optimizer\n",
        "\n",
        "Try changing the optimizer from SGD to Adam (with learning rate 0.1 as before). Remember to import the Adam optimizer from keras.optimizers. \n",
        "\n",
        "https://keras.io/optimizers/\n"
      ]
    },
    {
      "cell_type": "markdown",
      "metadata": {
        "id": "aFK4fg7JBsso"
      },
      "source": [
        "### 2 layers, 20 nodes, class weights, Adam optimizer, no batch normalization, sigmoid activations"
      ]
    },
    {
      "cell_type": "code",
      "execution_count": 34,
      "metadata": {
        "id": "ilseCfoSBsso",
        "scrolled": true,
        "colab": {
          "base_uri": "https://localhost:8080/"
        },
        "outputId": "09bff539-0a20-4b88-a970-783aa182356c"
      },
      "outputs": [
        {
          "output_type": "stream",
          "name": "stdout",
          "text": [
            "Epoch 1/20\n",
            "54/54 [==============================] - 1s 13ms/step - loss: 0.2260 - accuracy: 0.8835 - val_loss: 0.2155 - val_accuracy: 0.9144\n",
            "Epoch 2/20\n",
            "54/54 [==============================] - 1s 12ms/step - loss: 0.1699 - accuracy: 0.9140 - val_loss: 0.2061 - val_accuracy: 0.9174\n",
            "Epoch 3/20\n",
            "54/54 [==============================] - 1s 11ms/step - loss: 0.1646 - accuracy: 0.9166 - val_loss: 0.2151 - val_accuracy: 0.9180\n",
            "Epoch 4/20\n",
            "54/54 [==============================] - 1s 12ms/step - loss: 0.1611 - accuracy: 0.9182 - val_loss: 0.1898 - val_accuracy: 0.9208\n",
            "Epoch 5/20\n",
            "54/54 [==============================] - 1s 11ms/step - loss: 0.1581 - accuracy: 0.9191 - val_loss: 0.1949 - val_accuracy: 0.9213\n",
            "Epoch 6/20\n",
            "54/54 [==============================] - 1s 11ms/step - loss: 0.1558 - accuracy: 0.9202 - val_loss: 0.1956 - val_accuracy: 0.9205\n",
            "Epoch 7/20\n",
            "54/54 [==============================] - 1s 11ms/step - loss: 0.1537 - accuracy: 0.9204 - val_loss: 0.1902 - val_accuracy: 0.9216\n",
            "Epoch 8/20\n",
            "54/54 [==============================] - 1s 11ms/step - loss: 0.1526 - accuracy: 0.9205 - val_loss: 0.1869 - val_accuracy: 0.9219\n",
            "Epoch 9/20\n",
            "54/54 [==============================] - 1s 11ms/step - loss: 0.1513 - accuracy: 0.9207 - val_loss: 0.1704 - val_accuracy: 0.9228\n",
            "Epoch 10/20\n",
            "54/54 [==============================] - 1s 12ms/step - loss: 0.1488 - accuracy: 0.9213 - val_loss: 0.1773 - val_accuracy: 0.9220\n",
            "Epoch 11/20\n",
            "54/54 [==============================] - 1s 11ms/step - loss: 0.1476 - accuracy: 0.9215 - val_loss: 0.1953 - val_accuracy: 0.9221\n",
            "Epoch 12/20\n",
            "54/54 [==============================] - 1s 11ms/step - loss: 0.1477 - accuracy: 0.9223 - val_loss: 0.1902 - val_accuracy: 0.9227\n",
            "Epoch 13/20\n",
            "54/54 [==============================] - 1s 11ms/step - loss: 0.1460 - accuracy: 0.9252 - val_loss: 0.2035 - val_accuracy: 0.9205\n",
            "Epoch 14/20\n",
            "54/54 [==============================] - 1s 11ms/step - loss: 0.1519 - accuracy: 0.9208 - val_loss: 0.1748 - val_accuracy: 0.9222\n",
            "Epoch 15/20\n",
            "54/54 [==============================] - 1s 11ms/step - loss: 0.1394 - accuracy: 0.9281 - val_loss: 0.1771 - val_accuracy: 0.9317\n",
            "Epoch 16/20\n",
            "54/54 [==============================] - 1s 11ms/step - loss: 0.1355 - accuracy: 0.9313 - val_loss: 0.1662 - val_accuracy: 0.9331\n",
            "Epoch 17/20\n",
            "54/54 [==============================] - 1s 11ms/step - loss: 0.1418 - accuracy: 0.9291 - val_loss: 0.2034 - val_accuracy: 0.9210\n",
            "Epoch 18/20\n",
            "54/54 [==============================] - 1s 11ms/step - loss: 0.1540 - accuracy: 0.9207 - val_loss: 0.1856 - val_accuracy: 0.9219\n",
            "Epoch 19/20\n",
            "54/54 [==============================] - 1s 11ms/step - loss: 0.1521 - accuracy: 0.9207 - val_loss: 0.1811 - val_accuracy: 0.9215\n",
            "Epoch 20/20\n",
            "54/54 [==============================] - 1s 11ms/step - loss: 0.1450 - accuracy: 0.9224 - val_loss: 0.1678 - val_accuracy: 0.9293\n"
          ]
        }
      ],
      "source": [
        "# Setup some training parameters\n",
        "batch_size = 10000\n",
        "epochs = 20\n",
        "input_shape = input_shape = Xtrain.shape\n",
        "\n",
        "# Build and train model\n",
        "model8 =  build_DNN(input_shape = input_shape, n_layers = 2, n_nodes=20, act_fun ='sigmoid', optimizer='Adam', learning_rate=0.1)\n",
        "\n",
        "history8 = model8.fit(\n",
        "    x=Xtrain,\n",
        "    y=Ytrain,\n",
        "    batch_size=batch_size,\n",
        "    epochs=epochs,\n",
        "    validation_data=(Xval,Yval),\n",
        "    class_weight = class_weights\n",
        "    )"
      ]
    },
    {
      "cell_type": "code",
      "execution_count": 35,
      "metadata": {
        "id": "1_o_r1CEBssp",
        "colab": {
          "base_uri": "https://localhost:8080/"
        },
        "outputId": "52b2c720-c797-456d-c4bd-406024b086e1"
      },
      "outputs": [
        {
          "output_type": "stream",
          "name": "stdout",
          "text": [
            "3582/3582 [==============================] - 4s 1ms/step - loss: 0.1696 - accuracy: 0.9282\n",
            "Test loss: 0.1696\n",
            "Test accuracy: 0.9282\n"
          ]
        }
      ],
      "source": [
        "# Evaluate model on test data\n",
        "score = model8.evaluate(x = Xtest, y = Ytest)\n",
        "print('Test loss: %.4f' % score[0])\n",
        "print('Test accuracy: %.4f' % score[1])"
      ]
    },
    {
      "cell_type": "code",
      "execution_count": 36,
      "metadata": {
        "id": "UKKWJ5rcBssp",
        "colab": {
          "base_uri": "https://localhost:8080/",
          "height": 541
        },
        "outputId": "5911ff7c-9bf7-4421-8d11-154f58cc17c0"
      },
      "outputs": [
        {
          "output_type": "display_data",
          "data": {
            "text/plain": [
              "<Figure size 720x288 with 1 Axes>"
            ],
            "image/png": "[encoded data removed]"
          },
          "metadata": {
            "needs_background": "light"
          }
        },
        {
          "output_type": "display_data",
          "data": {
            "text/plain": [
              "<Figure size 720x288 with 1 Axes>"
            ],
            "image/png": "[encoded data removed]"
          },
          "metadata": {
            "needs_background": "light"
          }
        }
      ],
      "source": [
        "plot_results(history8)"
      ]
    },
    {
      "cell_type": "markdown",
      "metadata": {
        "id": "AzSR5ev0Bssp"
      },
      "source": [
        "# Part 18: Dropout regularization\n",
        "\n",
        "Dropout is a type of regularization that can improve accuracy for validation and test data. \n",
        "\n",
        "Add a Dropout layer after each Dense layer (but not after the final dense layer) in `build_DNN`, with a dropout probability of 50%. Remember to first import the Dropout layer from keras.layers\n",
        "\n",
        "See https://keras.io/api/layers/regularization_layers/dropout/ for how the Dropout layer works.\n",
        "\n",
        "---\n",
        "\n",
        "Question 15: How does the validation accuracy change when adding dropout?\n",
        "* After adding the deopout the validation accuracy is somewhat decerased. Because adding the dropout will prevent the model to overfit. \n",
        "\n",
        "Question 16: How does the test accuracy change when adding dropout?\n",
        "* After adding the dropout the test accuracy changed\n",
        " * From ```Test accuracy = 0.9201```\n",
        " * To ```Test accuracy = 0.8743```\n",
        "* The reason for droping accuracy is that adding the dropout has introduced some uncertinity in model."
      ]
    },
    {
      "cell_type": "markdown",
      "metadata": {
        "id": "YvLd0mIfBssq"
      },
      "source": [
        "### 2 layers, 20 nodes, class weights, dropout, SGD optimizer, no batch normalization, sigmoid activations"
      ]
    },
    {
      "cell_type": "code",
      "execution_count": 37,
      "metadata": {
        "id": "z9NMsAUUBssq",
        "scrolled": true,
        "colab": {
          "base_uri": "https://localhost:8080/"
        },
        "outputId": "82e02b01-3e1e-4e84-ed09-dbe3eb89967c"
      },
      "outputs": [
        {
          "output_type": "stream",
          "name": "stdout",
          "text": [
            "Epoch 1/20\n",
            "54/54 [==============================] - 1s 17ms/step - loss: 0.8425 - accuracy: 0.5788 - val_loss: 0.6610 - val_accuracy: 0.8854\n",
            "Epoch 2/20\n",
            "54/54 [==============================] - 1s 15ms/step - loss: 0.6813 - accuracy: 0.6315 - val_loss: 0.6136 - val_accuracy: 0.8852\n",
            "Epoch 3/20\n",
            "54/54 [==============================] - 1s 15ms/step - loss: 0.6195 - accuracy: 0.6807 - val_loss: 0.5640 - val_accuracy: 0.8848\n",
            "Epoch 4/20\n",
            "54/54 [==============================] - 1s 15ms/step - loss: 0.5849 - accuracy: 0.7142 - val_loss: 0.5094 - val_accuracy: 0.8839\n",
            "Epoch 5/20\n",
            "54/54 [==============================] - 1s 14ms/step - loss: 0.5469 - accuracy: 0.7421 - val_loss: 0.4583 - val_accuracy: 0.8836\n",
            "Epoch 6/20\n",
            "54/54 [==============================] - 1s 15ms/step - loss: 0.5187 - accuracy: 0.7626 - val_loss: 0.4130 - val_accuracy: 0.8833\n",
            "Epoch 7/20\n",
            "54/54 [==============================] - 1s 15ms/step - loss: 0.4937 - accuracy: 0.7773 - val_loss: 0.3742 - val_accuracy: 0.8831\n",
            "Epoch 8/20\n",
            "54/54 [==============================] - 1s 15ms/step - loss: 0.4799 - accuracy: 0.7883 - val_loss: 0.3431 - val_accuracy: 0.8827\n",
            "Epoch 9/20\n",
            "54/54 [==============================] - 1s 15ms/step - loss: 0.4556 - accuracy: 0.7957 - val_loss: 0.3160 - val_accuracy: 0.8826\n",
            "Epoch 10/20\n",
            "54/54 [==============================] - 1s 14ms/step - loss: 0.4426 - accuracy: 0.8030 - val_loss: 0.2943 - val_accuracy: 0.8827\n",
            "Epoch 11/20\n",
            "54/54 [==============================] - 1s 15ms/step - loss: 0.4286 - accuracy: 0.8092 - val_loss: 0.2773 - val_accuracy: 0.8828\n",
            "Epoch 12/20\n",
            "54/54 [==============================] - 1s 15ms/step - loss: 0.4101 - accuracy: 0.8141 - val_loss: 0.2635 - val_accuracy: 0.8831\n",
            "Epoch 13/20\n",
            "54/54 [==============================] - 1s 15ms/step - loss: 0.4035 - accuracy: 0.8182 - val_loss: 0.2534 - val_accuracy: 0.8831\n",
            "Epoch 14/20\n",
            "54/54 [==============================] - 1s 15ms/step - loss: 0.3955 - accuracy: 0.8219 - val_loss: 0.2458 - val_accuracy: 0.8832\n",
            "Epoch 15/20\n",
            "54/54 [==============================] - 1s 14ms/step - loss: 0.3823 - accuracy: 0.8247 - val_loss: 0.2393 - val_accuracy: 0.8833\n",
            "Epoch 16/20\n",
            "54/54 [==============================] - 1s 14ms/step - loss: 0.3731 - accuracy: 0.8272 - val_loss: 0.2342 - val_accuracy: 0.8835\n",
            "Epoch 17/20\n",
            "54/54 [==============================] - 1s 14ms/step - loss: 0.3670 - accuracy: 0.8303 - val_loss: 0.2308 - val_accuracy: 0.8836\n",
            "Epoch 18/20\n",
            "54/54 [==============================] - 1s 14ms/step - loss: 0.3611 - accuracy: 0.8324 - val_loss: 0.2279 - val_accuracy: 0.8836\n",
            "Epoch 19/20\n",
            "54/54 [==============================] - 1s 15ms/step - loss: 0.3519 - accuracy: 0.8348 - val_loss: 0.2255 - val_accuracy: 0.8837\n",
            "Epoch 20/20\n",
            "54/54 [==============================] - 1s 15ms/step - loss: 0.3507 - accuracy: 0.8365 - val_loss: 0.2240 - val_accuracy: 0.8838\n"
          ]
        }
      ],
      "source": [
        "# Setup some training parameters\n",
        "batch_size = 10000\n",
        "epochs = 20\n",
        "input_shape = Xtrain.shape\n",
        "\n",
        "# Build and train model\n",
        "model9 =  build_DNN(input_shape = input_shape, n_layers = 2, n_nodes=20, act_fun ='relu', use_dropout = True)\n",
        "\n",
        "history9 = model9.fit(\n",
        "    x=Xtrain,\n",
        "    y=Ytrain,\n",
        "    batch_size=batch_size,\n",
        "    epochs=epochs,\n",
        "    validation_data=(Xval,Yval),\n",
        "    class_weight = class_weights\n",
        "    )"
      ]
    },
    {
      "cell_type": "code",
      "execution_count": 38,
      "metadata": {
        "id": "V2gn0XyvBssq",
        "colab": {
          "base_uri": "https://localhost:8080/"
        },
        "outputId": "f2e0a094-ea28-4966-bd19-897354a3b1b9"
      },
      "outputs": [
        {
          "output_type": "stream",
          "name": "stdout",
          "text": [
            "12/12 [==============================] - 0s 4ms/step - loss: 0.2270 - accuracy: 0.8815\n",
            "Test loss: 0.2270\n",
            "Test accuracy: 0.8815\n"
          ]
        }
      ],
      "source": [
        "# Evaluate model on test data\n",
        "score = model9.evaluate(Xtest,Ytest,batch_size=batch_size)\n",
        "\n",
        "print('Test loss: %.4f' % score[0])\n",
        "print('Test accuracy: %.4f' % score[1])"
      ]
    },
    {
      "cell_type": "code",
      "execution_count": 39,
      "metadata": {
        "id": "GcpCJTK4Bssr",
        "colab": {
          "base_uri": "https://localhost:8080/",
          "height": 545
        },
        "outputId": "3bb2c5ba-7472-4a91-c66d-efbe24cfc1fb"
      },
      "outputs": [
        {
          "output_type": "display_data",
          "data": {
            "text/plain": [
              "<Figure size 720x288 with 1 Axes>"
            ],
            "image/png": "[encoded data removed]"
          },
          "metadata": {
            "needs_background": "light"
          }
        },
        {
          "output_type": "display_data",
          "data": {
            "text/plain": [
              "<Figure size 720x288 with 1 Axes>"
            ],
            "image/png": "[encoded data removed]"
          },
          "metadata": {
            "needs_background": "light"
          }
        }
      ],
      "source": [
        "plot_results(history9)"
      ]
    },
    {
      "cell_type": "markdown",
      "metadata": {
        "id": "38mGSX60Bsss"
      },
      "source": [
        "# Part 19: Improving performance\n",
        "\n",
        "Spend some time (30 - 90 minutes) playing with the network architecture (number of layers, number of nodes per layer, activation function) and other hyper parameters (optimizer, learning rate, batch size, number of epochs, degree of regularization). For example, try a much deeper network. How much does the training time increase for a network with 10 layers?\n",
        "* For the following test of time difference, the following settings are used\n",
        "```\n",
        "batch_size = 10000\n",
        "epochs = 20\n",
        "```\n",
        " * Seconds elapsed for training a model with **2 layers**, **20 nodes**, **class weights**, **dropout**, **SGD optimizer**, **no batch normalization**, **sigmoid activations** = *20.23757243156433*\n",
        " * Seconds elapsed for training a model with **2 layers**, **20 nodes**, **class weights**, **dropout**, **SGD optimizer**, **no batch normalization**, **sigmoid activations** = *60.33632278442383*\n",
        "* As we increase the nomber of layers, the time for training in increased. \n",
        "\n",
        "\n",
        "Question 17: How high classification accuracy can you achieve for the test data? What is your best configuration?\n",
        "* After trying different settings we have achieved the \n",
        " * `Test loss: 0.2354`\n",
        " * `Test accuracy: 0.9028`\n",
        "* the setting we used for this is as follows\n",
        "```\n",
        "n_layers = 4\n",
        "n_nodes=75\n",
        "optimizer='Adam'\n",
        "use_bn=True\n",
        "use_dropout=True\n",
        "learning_rate=0.01\n",
        "```"
      ]
    },
    {
      "cell_type": "code",
      "execution_count": 40,
      "metadata": {
        "id": "Sa5uqs9_dpMS",
        "colab": {
          "base_uri": "https://localhost:8080/"
        },
        "outputId": "590b66f3-b109-42af-fe84-e08141537ec2"
      },
      "outputs": [
        {
          "output_type": "stream",
          "name": "stdout",
          "text": [
            "Seconds elapsed for training a model with 2 layers, 20 nodes, class weights, dropout, SGD optimizer, no batch normalization, sigmoid activations = 20.98540759086609\n",
            "Seconds elapsed for training a model with 10 layers, 20 nodes, class weights, dropout, SGD optimizer, no batch normalization, sigmoid activations = 41.381136417388916\n"
          ]
        }
      ],
      "source": [
        "from time import time, sleep\n",
        "batch_size = 10000\n",
        "epochs = 20\n",
        "input_shape = Xtrain.shape\n",
        "\n",
        "start_time = time()\n",
        "# Training the model\n",
        "modelTemp1 =  build_DNN(input_shape = input_shape, n_layers = 2, n_nodes=20, act_fun ='relu', use_dropout = True)\n",
        "historyTemp1 = modelTemp1.fit(\n",
        "    x=Xtrain,\n",
        "    y=Ytrain,\n",
        "    batch_size=batch_size,\n",
        "    epochs=epochs,\n",
        "    validation_data=(Xval,Yval),\n",
        "    class_weight = class_weights,\n",
        "    verbose=0,\n",
        "    )\n",
        "end_time = time()\n",
        "seconds_elapsed = end_time - start_time\n",
        "print('Seconds elapsed for training a model with 2 layers, 20 nodes, class weights, dropout, SGD optimizer, no batch normalization, sigmoid activations = ' + str(seconds_elapsed))\n",
        "\n",
        "\n",
        "start_time = time()\n",
        "# Training the model\n",
        "modelTemp2 =  build_DNN(input_shape = input_shape, n_layers = 10, n_nodes=20, act_fun ='relu', use_dropout = True)\n",
        "historyTemp2 = modelTemp2.fit(\n",
        "    x=Xtrain,\n",
        "    y=Ytrain,\n",
        "    batch_size=batch_size,\n",
        "    epochs=epochs,\n",
        "    validation_data=(Xval,Yval),\n",
        "    class_weight = class_weights,\n",
        "    verbose=0,\n",
        "    )\n",
        "end_time = time()\n",
        "seconds_elapsed = end_time - start_time\n",
        "print('Seconds elapsed for training a model with 10 layers, 20 nodes, class weights, dropout, SGD optimizer, no batch normalization, sigmoid activations = ' + str(seconds_elapsed))"
      ]
    },
    {
      "cell_type": "code",
      "execution_count": 41,
      "metadata": {
        "id": "h-IHMZ1vBsss",
        "scrolled": true,
        "colab": {
          "base_uri": "https://localhost:8080/"
        },
        "outputId": "dc65e407-16c3-4f48-94d3-5abca4c6dd1e"
      },
      "outputs": [
        {
          "output_type": "stream",
          "name": "stdout",
          "text": [
            "Epoch 1/35\n",
            "535/535 [==============================] - 10s 16ms/step - loss: 0.2038 - accuracy: 0.9028 - val_loss: 0.2244 - val_accuracy: 0.9162\n",
            "Epoch 2/35\n",
            "535/535 [==============================] - 8s 15ms/step - loss: 0.1786 - accuracy: 0.9135 - val_loss: 0.2185 - val_accuracy: 0.9168\n",
            "Epoch 3/35\n",
            "535/535 [==============================] - 8s 15ms/step - loss: 0.1764 - accuracy: 0.9137 - val_loss: 0.2252 - val_accuracy: 0.9160\n",
            "Epoch 4/35\n",
            "535/535 [==============================] - 8s 15ms/step - loss: 0.1742 - accuracy: 0.9143 - val_loss: 0.2243 - val_accuracy: 0.9169\n",
            "Epoch 5/35\n",
            "535/535 [==============================] - 8s 15ms/step - loss: 0.1737 - accuracy: 0.9147 - val_loss: 0.2182 - val_accuracy: 0.9167\n",
            "Epoch 6/35\n",
            "535/535 [==============================] - 8s 15ms/step - loss: 0.1740 - accuracy: 0.9144 - val_loss: 0.2361 - val_accuracy: 0.9170\n",
            "Epoch 7/35\n",
            "535/535 [==============================] - 8s 15ms/step - loss: 0.1731 - accuracy: 0.9147 - val_loss: 0.2041 - val_accuracy: 0.9170\n",
            "Epoch 8/35\n",
            "535/535 [==============================] - 8s 15ms/step - loss: 0.1735 - accuracy: 0.9142 - val_loss: 0.2034 - val_accuracy: 0.9172\n",
            "Epoch 9/35\n",
            "535/535 [==============================] - 8s 16ms/step - loss: 0.1730 - accuracy: 0.9147 - val_loss: 0.1904 - val_accuracy: 0.9173\n",
            "Epoch 10/35\n",
            "535/535 [==============================] - 8s 16ms/step - loss: 0.1718 - accuracy: 0.9150 - val_loss: 0.2118 - val_accuracy: 0.9169\n",
            "Epoch 11/35\n",
            "535/535 [==============================] - 8s 16ms/step - loss: 0.1719 - accuracy: 0.9149 - val_loss: 0.2154 - val_accuracy: 0.9168\n",
            "Epoch 12/35\n",
            "535/535 [==============================] - 8s 16ms/step - loss: 0.1727 - accuracy: 0.9148 - val_loss: 0.2082 - val_accuracy: 0.9170\n",
            "Epoch 13/35\n",
            "535/535 [==============================] - 8s 16ms/step - loss: 0.1721 - accuracy: 0.9145 - val_loss: 0.2142 - val_accuracy: 0.9168\n",
            "Epoch 14/35\n",
            "535/535 [==============================] - 8s 16ms/step - loss: 0.1723 - accuracy: 0.9147 - val_loss: 0.2126 - val_accuracy: 0.9170\n",
            "Epoch 15/35\n",
            "535/535 [==============================] - 8s 16ms/step - loss: 0.1725 - accuracy: 0.9148 - val_loss: 0.2215 - val_accuracy: 0.9172\n",
            "Epoch 16/35\n",
            "535/535 [==============================] - 9s 16ms/step - loss: 0.1722 - accuracy: 0.9148 - val_loss: 0.2023 - val_accuracy: 0.9171\n",
            "Epoch 17/35\n",
            "535/535 [==============================] - 8s 15ms/step - loss: 0.1717 - accuracy: 0.9147 - val_loss: 0.2187 - val_accuracy: 0.9167\n",
            "Epoch 18/35\n",
            "535/535 [==============================] - 8s 15ms/step - loss: 0.1715 - accuracy: 0.9149 - val_loss: 0.2186 - val_accuracy: 0.9170\n",
            "Epoch 19/35\n",
            "535/535 [==============================] - 8s 15ms/step - loss: 0.1715 - accuracy: 0.9151 - val_loss: 0.2022 - val_accuracy: 0.9171\n",
            "Epoch 20/35\n",
            "535/535 [==============================] - 8s 15ms/step - loss: 0.1716 - accuracy: 0.9151 - val_loss: 0.2191 - val_accuracy: 0.9172\n",
            "Epoch 21/35\n",
            "535/535 [==============================] - 8s 15ms/step - loss: 0.1719 - accuracy: 0.9148 - val_loss: 0.2165 - val_accuracy: 0.9172\n",
            "Epoch 22/35\n",
            "535/535 [==============================] - 8s 16ms/step - loss: 0.1728 - accuracy: 0.9143 - val_loss: 0.2190 - val_accuracy: 0.9167\n",
            "Epoch 23/35\n",
            "535/535 [==============================] - 8s 15ms/step - loss: 0.1727 - accuracy: 0.9145 - val_loss: 0.2094 - val_accuracy: 0.9169\n",
            "Epoch 24/35\n",
            "535/535 [==============================] - 8s 15ms/step - loss: 0.1724 - accuracy: 0.9145 - val_loss: 0.1962 - val_accuracy: 0.9170\n",
            "Epoch 25/35\n",
            "535/535 [==============================] - 8s 15ms/step - loss: 0.1717 - accuracy: 0.9150 - val_loss: 0.2161 - val_accuracy: 0.9173\n",
            "Epoch 26/35\n",
            "535/535 [==============================] - 9s 16ms/step - loss: 0.1723 - accuracy: 0.9147 - val_loss: 0.2126 - val_accuracy: 0.9170\n",
            "Epoch 27/35\n",
            "535/535 [==============================] - 9s 16ms/step - loss: 0.1723 - accuracy: 0.9146 - val_loss: 0.2165 - val_accuracy: 0.9171\n",
            "Epoch 28/35\n",
            "535/535 [==============================] - 8s 16ms/step - loss: 0.1729 - accuracy: 0.9144 - val_loss: 0.1988 - val_accuracy: 0.9170\n",
            "Epoch 29/35\n",
            "535/535 [==============================] - 9s 17ms/step - loss: 0.1723 - accuracy: 0.9144 - val_loss: 0.2176 - val_accuracy: 0.9168\n",
            "Epoch 30/35\n",
            "535/535 [==============================] - 10s 20ms/step - loss: 0.1722 - accuracy: 0.9147 - val_loss: 0.2160 - val_accuracy: 0.9169\n",
            "Epoch 31/35\n",
            "535/535 [==============================] - 9s 17ms/step - loss: 0.1727 - accuracy: 0.9146 - val_loss: 0.2161 - val_accuracy: 0.9171\n",
            "Epoch 32/35\n",
            "535/535 [==============================] - 9s 16ms/step - loss: 0.1726 - accuracy: 0.9146 - val_loss: 0.2074 - val_accuracy: 0.9171\n",
            "Epoch 33/35\n",
            "535/535 [==============================] - 9s 16ms/step - loss: 0.1728 - accuracy: 0.9146 - val_loss: 0.2229 - val_accuracy: 0.9171\n",
            "Epoch 34/35\n",
            "535/535 [==============================] - 9s 16ms/step - loss: 0.1734 - accuracy: 0.9142 - val_loss: 0.2255 - val_accuracy: 0.9170\n",
            "Epoch 35/35\n",
            "535/535 [==============================] - 8s 16ms/step - loss: 0.1733 - accuracy: 0.9143 - val_loss: 0.2084 - val_accuracy: 0.9170\n"
          ]
        }
      ],
      "source": [
        "# Find your best configuration for the DNN\n",
        "batch_size = 1000\n",
        "epochs = 35\n",
        "input_shape = Xtrain.shape\n",
        "\n",
        "# Build and train model\n",
        "model10 = build_DNN(input_shape = input_shape, n_layers = 4, n_nodes=75,optimizer='Adam',use_bn=True, use_dropout=True, learning_rate=0.01)\n",
        "\n",
        "history10 = model10.fit(\n",
        "    x=Xtrain,\n",
        "    y=Ytrain,\n",
        "    batch_size=batch_size,\n",
        "    epochs=epochs,\n",
        "    validation_data=(Xval,Yval),\n",
        "    class_weight=class_weights\n",
        "    )\n"
      ]
    },
    {
      "cell_type": "code",
      "execution_count": 42,
      "metadata": {
        "id": "0DRbMMS2Bsst",
        "colab": {
          "base_uri": "https://localhost:8080/"
        },
        "outputId": "28934e1f-c0a4-48da-a6cd-3ac392db2aff"
      },
      "outputs": [
        {
          "output_type": "stream",
          "name": "stdout",
          "text": [
            "115/115 [==============================] - 1s 5ms/step - loss: 0.2111 - accuracy: 0.9159\n",
            "Test loss: 0.2111\n",
            "Test accuracy: 0.9159\n"
          ]
        }
      ],
      "source": [
        "# Evaluate DNN on test data\n",
        "score = model10.evaluate(Xtest,Ytest,batch_size=batch_size)\n",
        "\n",
        "print('Test loss: %.4f' % score[0])\n",
        "print('Test accuracy: %.4f' % score[1])"
      ]
    },
    {
      "cell_type": "markdown",
      "metadata": {
        "id": "xXlxPa6vBsst"
      },
      "source": [
        "# Part 20: Dropout uncertainty\n",
        "\n",
        "Dropout can also be used during testing, to obtain an estimate of the model uncertainty. Since dropout will randomly remove connections, the network will produce different results every time the same (test) data is put into the network. This technique is called Monte Carlo dropout. For more information, see this paper http://proceedings.mlr.press/v48/gal16.pdf\n",
        "\n",
        "To achieve this, we need to redefine the Keras Dropout call by running the cell below, and use 'myDropout' in each call to Dropout, in the cell that defines the DNN. The `build_DNN` function takes two boolean arguments, use_dropout and use_custom_dropout, add a standard Dropout layer if use_dropout is true, add a myDropout layer if use_custom_dropout is true.\n",
        "\n",
        "Run the same test data through the trained network 100 times, with dropout turned on. \n",
        "\n",
        "Question 18: What is the mean and the standard deviation of the test accuracy?\n",
        "* Accuracy Mean:  0.8958393335342407\n",
        "* Accuracy Standard Deviation:  0.0"
      ]
    },
    {
      "cell_type": "code",
      "execution_count": 43,
      "metadata": {
        "id": "MRMTXdm-Bsst"
      },
      "outputs": [],
      "source": [
        "import keras.backend as K\n",
        "import keras\n",
        "\n",
        "class myDropout(keras.layers.Dropout):\n",
        "    \"\"\"Applies Dropout to the input.\n",
        "    Dropout consists in randomly setting\n",
        "    a fraction `rate` of input units to 0 at each update during training time,\n",
        "    which helps prevent overfitting.\n",
        "    # Arguments\n",
        "        rate: float between 0 and 1. Fraction of the input units to drop.\n",
        "        noise_shape: 1D integer tensor representing the shape of the\n",
        "            binary dropout mask that will be multiplied with the input.\n",
        "            For instance, if your inputs have shape\n",
        "            `(batch_size, timesteps, features)` and\n",
        "            you want the dropout mask to be the same for all timesteps,\n",
        "            you can use `noise_shape=(batch_size, 1, features)`.\n",
        "        seed: A Python integer to use as random seed.\n",
        "    # References\n",
        "        - [Dropout: A Simple Way to Prevent Neural Networks from Overfitting](\n",
        "           http://www.jmlr.org/papers/volume15/srivastava14a/srivastava14a.pdf)\n",
        "    \"\"\"\n",
        "    def __init__(self, rate, training=True, noise_shape=None, seed=None, **kwargs):\n",
        "        super(myDropout, self).__init__(rate, noise_shape=None, seed=None,**kwargs)\n",
        "        self.training = training\n",
        "\n",
        "        \n",
        "    def call(self, inputs, training=None):\n",
        "        if 0. < self.rate < 1.:\n",
        "            noise_shape = self._get_noise_shape(inputs)\n",
        "\n",
        "            def dropped_inputs():\n",
        "                return K.dropout(inputs, self.rate, noise_shape,\n",
        "                                 seed=self.seed)\n",
        "            if not training: \n",
        "                return K.in_train_phase(dropped_inputs, inputs, training=self.training)\n",
        "            return K.in_train_phase(dropped_inputs, inputs, training=training)\n",
        "        return inputs"
      ]
    },
    {
      "cell_type": "markdown",
      "metadata": {
        "id": "Pq_O6Ij2Bssu"
      },
      "source": [
        "### Your best config, custom dropout"
      ]
    },
    {
      "cell_type": "code",
      "execution_count": 44,
      "metadata": {
        "id": "tHXXQYQCBssu",
        "scrolled": true,
        "colab": {
          "base_uri": "https://localhost:8080/"
        },
        "outputId": "3a481674-2df1-4be9-b6e1-b2422f2c120f"
      },
      "outputs": [
        {
          "output_type": "stream",
          "name": "stdout",
          "text": [
            "Epoch 1/35\n",
            "535/535 [==============================] - 8s 13ms/step - loss: 0.1742 - accuracy: 0.9135 - val_loss: 0.2441 - val_accuracy: 0.9122\n",
            "Epoch 2/35\n",
            "535/535 [==============================] - 7s 13ms/step - loss: 0.1615 - accuracy: 0.9172 - val_loss: 0.2003 - val_accuracy: 0.9182\n",
            "Epoch 3/35\n",
            "535/535 [==============================] - 7s 12ms/step - loss: 0.1560 - accuracy: 0.9202 - val_loss: 0.2150 - val_accuracy: 0.9176\n",
            "Epoch 4/35\n",
            "535/535 [==============================] - 7s 12ms/step - loss: 0.1467 - accuracy: 0.9255 - val_loss: 0.1715 - val_accuracy: 0.9277\n",
            "Epoch 5/35\n",
            "535/535 [==============================] - 7s 13ms/step - loss: 0.1364 - accuracy: 0.9305 - val_loss: 0.1883 - val_accuracy: 0.9262\n",
            "Epoch 6/35\n",
            "535/535 [==============================] - 7s 12ms/step - loss: 0.1334 - accuracy: 0.9320 - val_loss: 0.1882 - val_accuracy: 0.9294\n",
            "Epoch 7/35\n",
            "535/535 [==============================] - 7s 13ms/step - loss: 0.1324 - accuracy: 0.9320 - val_loss: 0.1664 - val_accuracy: 0.9298\n",
            "Epoch 8/35\n",
            "535/535 [==============================] - 7s 13ms/step - loss: 0.1297 - accuracy: 0.9331 - val_loss: 0.1675 - val_accuracy: 0.9337\n",
            "Epoch 9/35\n",
            "535/535 [==============================] - 7s 13ms/step - loss: 0.1291 - accuracy: 0.9335 - val_loss: 0.1617 - val_accuracy: 0.9336\n",
            "Epoch 10/35\n",
            "535/535 [==============================] - 7s 14ms/step - loss: 0.1291 - accuracy: 0.9333 - val_loss: 0.1629 - val_accuracy: 0.9366\n",
            "Epoch 11/35\n",
            "535/535 [==============================] - 7s 13ms/step - loss: 0.1285 - accuracy: 0.9340 - val_loss: 0.1870 - val_accuracy: 0.9300\n",
            "Epoch 12/35\n",
            "535/535 [==============================] - 7s 13ms/step - loss: 0.1270 - accuracy: 0.9345 - val_loss: 0.1621 - val_accuracy: 0.9358\n",
            "Epoch 13/35\n",
            "535/535 [==============================] - 7s 13ms/step - loss: 0.1266 - accuracy: 0.9343 - val_loss: 0.1703 - val_accuracy: 0.9335\n",
            "Epoch 14/35\n",
            "535/535 [==============================] - 7s 13ms/step - loss: 0.1271 - accuracy: 0.9347 - val_loss: 0.1638 - val_accuracy: 0.9332\n",
            "Epoch 15/35\n",
            "535/535 [==============================] - 7s 13ms/step - loss: 0.1260 - accuracy: 0.9347 - val_loss: 0.1625 - val_accuracy: 0.9349\n",
            "Epoch 16/35\n",
            "535/535 [==============================] - 7s 13ms/step - loss: 0.1304 - accuracy: 0.9328 - val_loss: 0.1602 - val_accuracy: 0.9367\n",
            "Epoch 17/35\n",
            "535/535 [==============================] - 7s 13ms/step - loss: 0.1268 - accuracy: 0.9345 - val_loss: 0.1534 - val_accuracy: 0.9358\n",
            "Epoch 18/35\n",
            "535/535 [==============================] - 7s 13ms/step - loss: 0.1395 - accuracy: 0.9268 - val_loss: 0.2488 - val_accuracy: 0.9220\n",
            "Epoch 19/35\n",
            "535/535 [==============================] - 7s 13ms/step - loss: 0.1349 - accuracy: 0.9303 - val_loss: 0.1649 - val_accuracy: 0.9349\n",
            "Epoch 20/35\n",
            "535/535 [==============================] - 7s 13ms/step - loss: 0.1303 - accuracy: 0.9324 - val_loss: 0.1539 - val_accuracy: 0.9359\n",
            "Epoch 21/35\n",
            "535/535 [==============================] - 7s 13ms/step - loss: 0.1276 - accuracy: 0.9342 - val_loss: 0.1846 - val_accuracy: 0.9341\n",
            "Epoch 22/35\n",
            "535/535 [==============================] - 7s 13ms/step - loss: 0.1281 - accuracy: 0.9336 - val_loss: 0.1509 - val_accuracy: 0.9351\n",
            "Epoch 23/35\n",
            "535/535 [==============================] - 7s 13ms/step - loss: 0.1296 - accuracy: 0.9334 - val_loss: 0.1549 - val_accuracy: 0.9356\n",
            "Epoch 24/35\n",
            "535/535 [==============================] - 7s 13ms/step - loss: 0.1279 - accuracy: 0.9341 - val_loss: 0.1832 - val_accuracy: 0.9345\n",
            "Epoch 25/35\n",
            "535/535 [==============================] - 7s 13ms/step - loss: 0.1306 - accuracy: 0.9329 - val_loss: 0.1670 - val_accuracy: 0.9316\n",
            "Epoch 26/35\n",
            "535/535 [==============================] - 7s 13ms/step - loss: 0.1306 - accuracy: 0.9324 - val_loss: 0.1717 - val_accuracy: 0.9335\n",
            "Epoch 27/35\n",
            "535/535 [==============================] - 7s 13ms/step - loss: 0.1334 - accuracy: 0.9311 - val_loss: 0.1735 - val_accuracy: 0.9315\n",
            "Epoch 28/35\n",
            "535/535 [==============================] - 7s 13ms/step - loss: 0.1336 - accuracy: 0.9316 - val_loss: 0.1638 - val_accuracy: 0.9347\n",
            "Epoch 29/35\n",
            "535/535 [==============================] - 7s 13ms/step - loss: 0.1330 - accuracy: 0.9321 - val_loss: 0.1586 - val_accuracy: 0.9328\n",
            "Epoch 30/35\n",
            "535/535 [==============================] - 7s 13ms/step - loss: 0.1308 - accuracy: 0.9325 - val_loss: 0.1692 - val_accuracy: 0.9326\n",
            "Epoch 31/35\n",
            "535/535 [==============================] - 7s 13ms/step - loss: 0.1322 - accuracy: 0.9318 - val_loss: 0.1673 - val_accuracy: 0.9338\n",
            "Epoch 32/35\n",
            "535/535 [==============================] - 7s 13ms/step - loss: 0.1323 - accuracy: 0.9319 - val_loss: 0.1606 - val_accuracy: 0.9337\n",
            "Epoch 33/35\n",
            "535/535 [==============================] - 7s 13ms/step - loss: 0.1364 - accuracy: 0.9310 - val_loss: 0.1685 - val_accuracy: 0.9352\n",
            "Epoch 34/35\n",
            "535/535 [==============================] - 7s 13ms/step - loss: 0.1350 - accuracy: 0.9313 - val_loss: 0.1568 - val_accuracy: 0.9342\n",
            "Epoch 35/35\n",
            "535/535 [==============================] - 7s 13ms/step - loss: 0.1336 - accuracy: 0.9315 - val_loss: 0.1668 - val_accuracy: 0.9342\n"
          ]
        }
      ],
      "source": [
        "# Your best training parameters\n",
        "batch_size = 1000\n",
        "epochs = 35\n",
        "input_shape = input_shape = Xtrain.shape\n",
        "\n",
        "\n",
        "# Build and train model\n",
        "model11 = build_DNN(input_shape = input_shape, n_layers = 4, n_nodes=75,optimizer='Adam',use_bn=True, use_custom_dropout=True, learning_rate=0.01)\n",
        "\n",
        "history11 = model11.fit(\n",
        "    x=Xtrain,\n",
        "    y=Ytrain,\n",
        "    batch_size=batch_size,\n",
        "    epochs=epochs,\n",
        "    validation_data=(Xval,Yval),\n",
        "    class_weight=class_weights\n",
        "    )\n"
      ]
    },
    {
      "cell_type": "code",
      "execution_count": 45,
      "metadata": {
        "id": "e1azTlQbBssu",
        "colab": {
          "base_uri": "https://localhost:8080/"
        },
        "outputId": "8c4f5877-80f0-406a-a7c5-33265d0290a3"
      },
      "outputs": [
        {
          "output_type": "stream",
          "name": "stdout",
          "text": [
            "115/115 [==============================] - 1s 5ms/step - loss: 0.1707 - accuracy: 0.9325\n",
            "Test accuracy: 0.9325\n"
          ]
        }
      ],
      "source": [
        "# Run this cell a few times to evalute the model on test data, \n",
        "# if you get slightly different test accuracy every time, Dropout during testing is working\n",
        "\n",
        "# Evaluate model on test data\n",
        "score = model11.evaluate(Xtest,Ytest,batch_size=batch_size)\n",
        "print('Test accuracy: %.4f' % score[1])"
      ]
    },
    {
      "cell_type": "code",
      "execution_count": 46,
      "metadata": {
        "id": "FKDUpBe6Bssv",
        "colab": {
          "base_uri": "https://localhost:8080/"
        },
        "outputId": "50c44a97-c425-4735-d0eb-641aacb18a91"
      },
      "outputs": [
        {
          "output_type": "stream",
          "name": "stdout",
          "text": [
            "99\n",
            "\n",
            "Accuracy Mean:  0.9325341582298279\n",
            "Accuracy Standard Deviation:  0.0\n"
          ]
        }
      ],
      "source": [
        "# Run the testing 100 times, and save the accuracies in an array\n",
        "from sys import stdout\n",
        "\n",
        "accuracy = []\n",
        "for i in range(100):\n",
        "  stdout.write(\"\\r%d\" % i)\n",
        "  score = model11.evaluate(Xtest,Ytest,batch_size=batch_size,verbose=0)\n",
        "  accuracy.insert(i, score[1])\n",
        "  stdout.flush()\n",
        "print(\"\\n\")\n",
        "# Calculate and print mean and std of accuracies\n",
        "print(\"Accuracy Mean: \",np.mean(np.array(accuracy)))\n",
        "print(\"Accuracy Standard Deviation: \",np.std(np.array(accuracy)))\n"
      ]
    },
    {
      "cell_type": "markdown",
      "metadata": {
        "id": "-d2_5Z34Bssv"
      },
      "source": [
        "# Part 21: Cross validation uncertainty\n",
        "\n",
        "Cross validation (CV) is often used to evaluate a model, by training and testing using different subsets of the data it is possible to get the uncertainty as the standard deviation over folds. We here use a help function from scikit-learn to setup the CV, see https://scikit-learn.org/stable/modules/generated/sklearn.model_selection.StratifiedKFold.html . Use 10 folds with shuffling, random state 1234. \n",
        "\n",
        "Note: We here assume that you have found the best hyper parameters, so here the data are only split into training and testing, no validation.\n",
        "\n",
        "---\n",
        "\n",
        "Question 19: What is the mean and the standard deviation of the test accuracy?\n",
        "* Accuracy Mean:  `0.932272219657898`\n",
        "* Accuracy Standard Deviation:  `0.004559802816742055`\n",
        "\n",
        "Question 20: What is the main advantage of dropout compared to CV for estimating test uncertainty? The difference may not be so large in this notebook, but imagine that you have a network that takes 24 hours to train.\n",
        "* Using dropout we are using full data rather then chunks. This may be an issue if the dataset is large and a given chunk might not be able to represent the charastics of the data. On the other hand one drawback of using CV is that it takes lot of time for crossvalidations. "
      ]
    },
    {
      "cell_type": "code",
      "execution_count": 47,
      "metadata": {
        "id": "Izu40qKUBssv",
        "colab": {
          "base_uri": "https://localhost:8080/"
        },
        "outputId": "c9b362bf-bfe2-4fe2-e739-8dfed354cb5b"
      },
      "outputs": [
        {
          "output_type": "stream",
          "name": "stdout",
          "text": [
            "1\n",
            "54/54 [==============================] - 0s 4ms/step - loss: 0.1811 - accuracy: 0.9301\n",
            "2\n",
            "54/54 [==============================] - 0s 5ms/step - loss: 0.1690 - accuracy: 0.9354\n",
            "3\n",
            "54/54 [==============================] - 0s 5ms/step - loss: 0.1653 - accuracy: 0.9338\n",
            "4\n",
            "54/54 [==============================] - 0s 5ms/step - loss: 0.1617 - accuracy: 0.9350\n",
            "5\n",
            "54/54 [==============================] - 0s 5ms/step - loss: 0.1571 - accuracy: 0.9345\n",
            "6\n",
            "54/54 [==============================] - 0s 5ms/step - loss: 0.1611 - accuracy: 0.9293\n",
            "7\n",
            "54/54 [==============================] - 0s 5ms/step - loss: 0.1721 - accuracy: 0.9305\n",
            "8\n",
            "54/54 [==============================] - 0s 5ms/step - loss: 0.1721 - accuracy: 0.9296\n",
            "9\n",
            "54/54 [==============================] - 0s 6ms/step - loss: 0.1505 - accuracy: 0.9333\n",
            "10\n",
            "54/54 [==============================] - 0s 5ms/step - loss: 0.1603 - accuracy: 0.9349\n",
            "\n",
            "\n",
            "Accuracy Mean:  0.932635360956192\n",
            "Accuracy Standard Deviation:  0.002337398809245484\n"
          ]
        }
      ],
      "source": [
        "# time = 42 mins\n",
        "from sklearn.model_selection import StratifiedKFold\n",
        "accuracy = []\n",
        "\n",
        "random_state =  1234\n",
        "\n",
        "# Define 10-fold cross validation\n",
        "cross_validation_folds = StratifiedKFold(n_splits = 10,\n",
        "                      random_state = random_state,\n",
        "                      shuffle=True)\n",
        "\n",
        "count = 1\n",
        "# Loop over cross validation folds\n",
        "for train_index, test_index in cross_validation_folds.split(Xtrain, Ytrain):\n",
        "  print(count)\n",
        "  count = count + 1\n",
        "  XtrainCF, XtestCF = Xtrain[train_index], Xtrain[test_index]\n",
        "  YtrainCF, YtestCF = Ytrain[train_index], Ytrain[test_index]\n",
        "  \n",
        "  # Calculate class weights for current split\n",
        "  class_weights = class_weight.compute_class_weight(class_weight = 'balanced', classes = np.unique(YtrainCF), y = YtrainCF.flatten())\n",
        "  class_weights = {0: class_weights[0], 1: class_weights[1]}\n",
        "  \n",
        "  # Rebuild the DNN model, to not continue training on the previously trained model\n",
        "  \n",
        "  batch_size = 1000\n",
        "  epochs = 35\n",
        "  input_shape = XtrainCF.shape\n",
        "\n",
        "  # Build and train model\n",
        "  model12 = build_DNN(input_shape = input_shape, n_layers = 4, n_nodes=75,optimizer='Adam',use_bn=True, use_custom_dropout=True, learning_rate=0.01)\n",
        "\n",
        "  # Fit the model with training set and class weights for this fold\n",
        "  history12 = model12.fit(\n",
        "    x=XtrainCF,\n",
        "    y=YtrainCF,\n",
        "    batch_size=batch_size,\n",
        "    epochs=epochs,\n",
        "    validation_data=(Xval,Yval),\n",
        "    class_weight=class_weights,\n",
        "    verbose=0\n",
        "    )\n",
        "  \n",
        "  # Evaluate the model using the test set for this fold\n",
        "  score = model12.evaluate(XtestCF,YtestCF,batch_size=batch_size, verbose=1)\n",
        "  \n",
        "  # Save the test accuracy in an array\n",
        "  accuracy.append(score[1])\n",
        "\n",
        "\n",
        "# Calculate and print mean and std of accuracies\n",
        "print(\"\\n\")\n",
        "print(\"Accuracy Mean: \",np.mean(np.array(accuracy)))\n",
        "print(\"Accuracy Standard Deviation: \",np.std(np.array(accuracy)))\n"
      ]
    },
    {
      "cell_type": "markdown",
      "metadata": {
        "id": "7QLjKYIpBssw"
      },
      "source": [
        "# Part 22: DNN regression\n",
        "\n",
        "A similar DNN can be used for regression, instead of classification.\n",
        "\n",
        "Question 21: How would you change the DNN in order to use it for regression instead?\n",
        "* We can change the last dense layer, by removing activation function. So that`linear activation: a(x) = x)` is applied. "
      ]
    },
    {
      "cell_type": "markdown",
      "metadata": {
        "id": "17n7oCySBssw"
      },
      "source": [
        "## Report\n",
        "\n",
        "Send in this jupyter notebook, with answers to all questions."
      ]
    }
  ],
  "metadata": {
    "colab": {
      "collapsed_sections": [],
      "name": "DNN_Lab_2022.ipynb",
      "provenance": []
    },
    "kernelspec": {
      "display_name": "Python 3 (ipykernel)",
      "language": "python",
      "name": "python3"
    },
    "language_info": {
      "codemirror_mode": {
        "name": "ipython",
        "version": 3
      },
      "file_extension": ".py",
      "mimetype": "text/x-python",
      "name": "python",
      "nbconvert_exporter": "python",
      "pygments_lexer": "ipython3",
      "version": "3.8.10"
    }
  },
  "nbformat": 4,
  "nbformat_minor": 0
}